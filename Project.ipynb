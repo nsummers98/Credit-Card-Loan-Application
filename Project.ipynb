{
 "cells": [
  {
   "cell_type": "markdown",
   "id": "5ae15dbc",
   "metadata": {},
   "source": [
    "# Credit Card Loan Applications\n",
    "## Introduction and Business Problem\n",
    "\n",
    "For the final project of Machine Learning for Business, students were tasked to identify a  problem that could be solved or assisted by using ML techniques. The selected problem and its solution must lead to or inform some tangible decision that can be made by management. Consequently, the current project focuses on credit card loan applications. Specifically, the current project aims to train a model which can determine whether applicants are likely to pay their credit card loans back on time, whether late repayments are likely to eventually lead to full repayments, and, consequently, whether to offer an applicant a credit card loan or not and at what interest rate.\n",
    "\n",
    "\n",
    "## Initial Import of Dataset and Necessary Libraries  \n",
    "\n",
    "In this first cell, the libraries necessary for the current business problem are imported along with the selected [dataset](https://www.kaggle.com/datasets/rikdifos/credit-card-approval-prediction). The dataset in question is split into two separate CSV files, one containing client features (property ownership, marital status, annual income, etc.), while the other contains the status of client loan repayments going back several months. The information in the second CSV file will be used as the label for the current business problem. These files are `application_record.csv` and `credit_record.csv`, respectively.  \n",
    "\n",
    "However, since `credit_record.csv` contains data for several months for each individual client, there are several copies of each client ID number within the table. Furthermore, there are several clients on one CSV file that do not appear in the other. Consequently, a list of unique ID numbers shared across both CSV files is also created and stored in `shared_id_list`.  \n",
    "\n",
    "Finally, the basic information for both CSV files, along with the total number of unique ID numbers shared across both CSV files, are listed."
   ]
  },
  {
   "cell_type": "code",
   "execution_count": 1,
   "id": "9c1a0adf",
   "metadata": {},
   "outputs": [
    {
     "name": "stdout",
     "output_type": "stream",
     "text": [
      "<class 'pandas.core.frame.DataFrame'>\n",
      "RangeIndex: 1048575 entries, 0 to 1048574\n",
      "Data columns (total 3 columns):\n",
      " #   Column          Non-Null Count    Dtype \n",
      "---  ------          --------------    ----- \n",
      " 0   ID              1048575 non-null  int64 \n",
      " 1   MONTHS_BALANCE  1048575 non-null  int64 \n",
      " 2   STATUS          1048575 non-null  object\n",
      "dtypes: int64(2), object(1)\n",
      "memory usage: 24.0+ MB\n",
      "None\n",
      "<class 'pandas.core.frame.DataFrame'>\n",
      "RangeIndex: 438557 entries, 0 to 438556\n",
      "Data columns (total 18 columns):\n",
      " #   Column               Non-Null Count   Dtype  \n",
      "---  ------               --------------   -----  \n",
      " 0   ID                   438557 non-null  int64  \n",
      " 1   CODE_GENDER          438557 non-null  object \n",
      " 2   FLAG_OWN_CAR         438557 non-null  object \n",
      " 3   FLAG_OWN_REALTY      438557 non-null  object \n",
      " 4   CNT_CHILDREN         438557 non-null  int64  \n",
      " 5   AMT_INCOME_TOTAL     438557 non-null  float64\n",
      " 6   NAME_INCOME_TYPE     438557 non-null  object \n",
      " 7   NAME_EDUCATION_TYPE  438557 non-null  object \n",
      " 8   NAME_FAMILY_STATUS   438557 non-null  object \n",
      " 9   NAME_HOUSING_TYPE    438557 non-null  object \n",
      " 10  DAYS_BIRTH           438557 non-null  int64  \n",
      " 11  DAYS_EMPLOYED        438557 non-null  int64  \n",
      " 12  FLAG_MOBIL           438557 non-null  int64  \n",
      " 13  FLAG_WORK_PHONE      438557 non-null  int64  \n",
      " 14  FLAG_PHONE           438557 non-null  int64  \n",
      " 15  FLAG_EMAIL           438557 non-null  int64  \n",
      " 16  OCCUPATION_TYPE      304354 non-null  object \n",
      " 17  CNT_FAM_MEMBERS      438557 non-null  float64\n",
      "dtypes: float64(2), int64(8), object(8)\n",
      "memory usage: 60.2+ MB\n",
      "None\n",
      "Shared IDs: 36457\n"
     ]
    }
   ],
   "source": [
    "import pandas as pd\n",
    "import numpy as np\n",
    "import matplotlib.pyplot as plt\n",
    "\n",
    "credit_record = pd.read_csv(\"credit_record.csv\")\n",
    "app_record = pd.read_csv(\"application_record.csv\")\n",
    "shared_id_list = set(app_record[\"ID\"]).intersection(set(credit_record[\"ID\"]))\n",
    "\n",
    "print(credit_record.info())\n",
    "print(app_record.info())\n",
    "print(\"Shared IDs: \" + str(len(shared_id_list)))"
   ]
  },
  {
   "cell_type": "markdown",
   "id": "54d12070",
   "metadata": {},
   "source": [
    "### Further dataset manipulation\n",
    "\n",
    "In order to assess the business problem in question, only clients whose information appears in both CSV files can be used. Therefore, new dataframes are made from both the application data and credit record data, only containing ID numbers that appear across both CSV files."
   ]
  },
  {
   "cell_type": "code",
   "execution_count": 2,
   "id": "d7ca9680",
   "metadata": {},
   "outputs": [
    {
     "name": "stdout",
     "output_type": "stream",
     "text": [
      "<class 'pandas.core.frame.DataFrame'>\n",
      "Int64Index: 777715 entries, 92938 to 1048574\n",
      "Data columns (total 3 columns):\n",
      " #   Column          Non-Null Count   Dtype \n",
      "---  ------          --------------   ----- \n",
      " 0   ID              777715 non-null  int64 \n",
      " 1   MONTHS_BALANCE  777715 non-null  int64 \n",
      " 2   STATUS          777715 non-null  object\n",
      "dtypes: int64(2), object(1)\n",
      "memory usage: 23.7+ MB\n",
      "None\n",
      "<class 'pandas.core.frame.DataFrame'>\n",
      "Int64Index: 36457 entries, 0 to 434812\n",
      "Data columns (total 18 columns):\n",
      " #   Column               Non-Null Count  Dtype  \n",
      "---  ------               --------------  -----  \n",
      " 0   ID                   36457 non-null  int64  \n",
      " 1   CODE_GENDER          36457 non-null  object \n",
      " 2   FLAG_OWN_CAR         36457 non-null  object \n",
      " 3   FLAG_OWN_REALTY      36457 non-null  object \n",
      " 4   CNT_CHILDREN         36457 non-null  int64  \n",
      " 5   AMT_INCOME_TOTAL     36457 non-null  float64\n",
      " 6   NAME_INCOME_TYPE     36457 non-null  object \n",
      " 7   NAME_EDUCATION_TYPE  36457 non-null  object \n",
      " 8   NAME_FAMILY_STATUS   36457 non-null  object \n",
      " 9   NAME_HOUSING_TYPE    36457 non-null  object \n",
      " 10  DAYS_BIRTH           36457 non-null  int64  \n",
      " 11  DAYS_EMPLOYED        36457 non-null  int64  \n",
      " 12  FLAG_MOBIL           36457 non-null  int64  \n",
      " 13  FLAG_WORK_PHONE      36457 non-null  int64  \n",
      " 14  FLAG_PHONE           36457 non-null  int64  \n",
      " 15  FLAG_EMAIL           36457 non-null  int64  \n",
      " 16  OCCUPATION_TYPE      25134 non-null  object \n",
      " 17  CNT_FAM_MEMBERS      36457 non-null  float64\n",
      "dtypes: float64(2), int64(8), object(8)\n",
      "memory usage: 5.3+ MB\n",
      "None\n"
     ]
    }
   ],
   "source": [
    "# Create DataFrames with only shared IDs\n",
    "shared_credit_record = credit_record[credit_record[\"ID\"].isin(shared_id_list)]\n",
    "shared_app_record = app_record[app_record[\"ID\"].isin(shared_id_list)]\n",
    "print(shared_credit_record.info())\n",
    "print(shared_app_record.info())"
   ]
  },
  {
   "cell_type": "markdown",
   "id": "c6074adc",
   "metadata": {},
   "source": [
    "## Statistical Analyses\n",
    "\n",
    "An intial statistical analysis of the credit record dataset is necessary in order to determine appropriate next steps. In the following two cells, the most recent loan repayment status and the most delayed loan repayment status for each client is found and frequencies are displayed in both numeric, normalized, and graphical formats.  \n",
    "\n",
    "To improve readability, the definition for the loan repayment status symbol is available in the table below:  \n",
    "\n",
    "| Symbol | Description |\n",
    "| :---: | :---: |\n",
    "| C | Loan paid off in full for the month |\n",
    "| X | No loan for the month |\n",
    "| 0 | Loan less than 30 days past due |\n",
    "| 1 | Loan less than 60 days past due |\n",
    "| 2 | Loan less than 90 days past due |\n",
    "| 3 | Loan less than 120 days past due |\n",
    "| 4 | Loan less than 150 days past due |\n",
    "| 5 | Overdue loans or bad debts, write-offs |"
   ]
  },
  {
   "cell_type": "code",
   "execution_count": 3,
   "id": "9750de04",
   "metadata": {},
   "outputs": [
    {
     "name": "stdout",
     "output_type": "stream",
     "text": [
      "C    17950\n",
      "X     9669\n",
      "0     8456\n",
      "1      276\n",
      "5       76\n",
      "2       19\n",
      "3        6\n",
      "4        5\n",
      "Name: STATUS, dtype: int64\n",
      "C    0.492361\n",
      "X    0.265217\n",
      "0    0.231944\n",
      "1    0.007571\n",
      "5    0.002085\n",
      "2    0.000521\n",
      "3    0.000165\n",
      "4    0.000137\n",
      "Name: STATUS, dtype: float64\n"
     ]
    },
    {
     "data": {
      "text/plain": [
       "<AxesSubplot:xlabel='STATUS'>"
      ]
     },
     "execution_count": 3,
     "metadata": {},
     "output_type": "execute_result"
    },
    {
     "data": {
      "image/png": "[encoded data removed]",
      "text/plain": [
       "<Figure size 432x288 with 1 Axes>"
      ]
     },
     "metadata": {
      "needs_background": "light"
     },
     "output_type": "display_data"
    }
   ],
   "source": [
    "# Most recent loan status for IDs that appear in both tables\n",
    "shared_credit_record_recent = shared_credit_record.drop_duplicates(subset=\"ID\", ignore_index=True)\n",
    "print(shared_credit_record_recent[\"STATUS\"].value_counts())\n",
    "print(shared_credit_record_recent[\"STATUS\"].value_counts(normalize=True))\n",
    "df = pd.DataFrame({\"STATUS\":['C', 'X', '0', '1', '2', '3', '4', '5'], \"COUNT\":[17950, 9669, 8456, 276, 19, 6, 5, 76]})\n",
    "df.plot.bar(x=\"STATUS\", y=\"COUNT\", rot=0)"
   ]
  },
  {
   "cell_type": "code",
   "execution_count": 4,
   "id": "e79b6543",
   "metadata": {},
   "outputs": [
    {
     "name": "stdout",
     "output_type": "stream",
     "text": [
      "C    329536\n",
      "0    290654\n",
      "X    145950\n",
      "1      8747\n",
      "5      1527\n",
      "2       801\n",
      "3       286\n",
      "4       214\n",
      "Name: STATUS, dtype: int64\n",
      "1    329536\n",
      "2    290654\n",
      "0    145950\n",
      "3      8747\n",
      "7      1527\n",
      "4       801\n",
      "5       286\n",
      "6       214\n",
      "Name: STATUS, dtype: int64\n",
      "<class 'pandas.core.frame.DataFrame'>\n",
      "Int64Index: 36457 entries, 0 to 0\n",
      "Data columns (total 2 columns):\n",
      " #   Column  Non-Null Count  Dtype \n",
      "---  ------  --------------  ----- \n",
      " 0   ID      36457 non-null  object\n",
      " 1   STATUS  36457 non-null  object\n",
      "dtypes: object(2)\n",
      "memory usage: 854.5+ KB\n",
      "None\n",
      "2    27711\n",
      "3     3675\n",
      "0     3347\n",
      "1     1108\n",
      "4      314\n",
      "7      180\n",
      "5       76\n",
      "6       46\n",
      "Name: STATUS, dtype: int64\n",
      "2    0.760101\n",
      "3    0.100804\n",
      "0    0.091807\n",
      "1    0.030392\n",
      "4    0.008613\n",
      "7    0.004937\n",
      "5    0.002085\n",
      "6    0.001262\n",
      "Name: STATUS, dtype: float64\n"
     ]
    },
    {
     "data": {
      "text/plain": [
       "<AxesSubplot:xlabel='STATUS'>"
      ]
     },
     "execution_count": 4,
     "metadata": {},
     "output_type": "execute_result"
    },
    {
     "data": {
      "image/png": "[encoded data removed]",
      "text/plain": [
       "<Figure size 432x288 with 1 Axes>"
      ]
     },
     "metadata": {
      "needs_background": "light"
     },
     "output_type": "display_data"
    }
   ],
   "source": [
    "# Create copy of shared_credit_record\n",
    "shared_credit_record_latest = shared_credit_record.copy()\n",
    "\n",
    "# Replace objects in STATUS with ints to facilitate comparisons\n",
    "sym_status = [\"5\", \"4\", \"3\", \"2\", \"1\", \"0\", \"C\", \"X\"]\n",
    "val_status = [7, 6, 5, 4, 3, 2, 1, 0]\n",
    "\n",
    "for s, v in zip(sym_status, val_status):\n",
    "    shared_credit_record_latest[\"STATUS\"] = shared_credit_record_latest[\"STATUS\"].replace(to_replace=s, value=v)\n",
    "    \n",
    "# Verify replacement occured correctly\n",
    "#print(shared_credit_record[\"STATUS\"].value_counts())\n",
    "#print(shared_credit_record_latest[\"STATUS\"].value_counts())\n",
    "\n",
    "# Find most delayed status for each unique ID\n",
    "output_df = pd.DataFrame(columns=[\"ID\", \"STATUS\"])\n",
    "\n",
    "# There is likely a better way to implement what this for loop is doing, but for the purposes of this project it is sufficient \n",
    "# Maybe using the merge and groupby functions?\n",
    "for ID in shared_id_list:\n",
    "    delay_df = shared_credit_record_latest.loc[shared_credit_record_latest[\"ID\"] == ID]\n",
    "    most_delayed = delay_df[\"STATUS\"].max()\n",
    "    d = {\"ID\": [ID], \"STATUS\": [most_delayed]}\n",
    "    output_df = pd.concat([output_df, pd.DataFrame(data=d)])\n",
    "\n",
    "print(output_df.info())\n",
    "print(output_df[\"STATUS\"].value_counts())\n",
    "print(output_df[\"STATUS\"].value_counts(normalize=True))\n",
    "df = pd.DataFrame({\"STATUS\":['C', 'X', '0', '1', '2', '3', '4', '5'], \"COUNT\":[1108, 3347, 27711, 3675, 314, 76, 46, 180]})\n",
    "df.plot.bar(x=\"STATUS\", y=\"COUNT\", rot=0)"
   ]
  },
  {
   "cell_type": "markdown",
   "id": "95b306dc",
   "metadata": {},
   "source": [
    "## Binary Classification Test-Train Split\n",
    "\n",
    "The first step in addressing the business question is to train a binary classification model to distinguish between \"good\" applicants and \"bad\" applicants. For the purpose of the current project, good applicants were classified as individuals who had never been more than two months late on loan repayments. This cutoff point was determined based on two main factors. Initially, the cutoff for good applicants was planned to be at three months, as [consumer credit default is commonly defined as delinquency beyond a period of 90 days](https://www.sciencedirect.com/science/article/abs/pii/S0939362518302875). However, based on the distribution of the data, the two month cutoff was selected due to the small number of defaults present in the database according to the above definition."
   ]
  },
  {
   "cell_type": "code",
   "execution_count": 5,
   "id": "4087e623",
   "metadata": {},
   "outputs": [
    {
     "name": "stdout",
     "output_type": "stream",
     "text": [
      "0    35841\n",
      "1      616\n",
      "Name: STATUS, dtype: int64\n"
     ]
    }
   ],
   "source": [
    "# Create a copy of the most delayed repayment for each unique ID\n",
    "binary_label = output_df.copy()\n",
    "\n",
    "# Clients with maximum repayment delays of less than two months are considered good\n",
    "binary_label[binary_label[\"STATUS\"] <= 3] = 0\n",
    "\n",
    "# Clients with maximum repayment delays of more than two months are considered bad\n",
    "binary_label[binary_label[\"STATUS\"] > 0] = 1\n",
    "\n",
    "print(binary_label[\"STATUS\"].value_counts())"
   ]
  },
  {
   "cell_type": "code",
   "execution_count": null,
   "id": "2efc9d4f",
   "metadata": {},
   "outputs": [],
   "source": []
  }
 ],
 "metadata": {
  "kernelspec": {
   "display_name": "Python 3 (ipykernel)",
   "language": "python",
   "name": "python3"
  },
  "language_info": {
   "codemirror_mode": {
    "name": "ipython",
    "version": 3
   },
   "file_extension": ".py",
   "mimetype": "text/x-python",
   "name": "python",
   "nbconvert_exporter": "python",
   "pygments_lexer": "ipython3",
   "version": "3.9.12"
  }
 },
 "nbformat": 4,
 "nbformat_minor": 5
}
