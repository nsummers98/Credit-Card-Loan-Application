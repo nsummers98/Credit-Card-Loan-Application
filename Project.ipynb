{
 "cells": [
  {
   "cell_type": "markdown",
   "id": "5170540b",
   "metadata": {},
   "source": [
    "# Credit Card Loan Applications\n",
    "\n",
    "## Table of Contents\n",
    "1. [Introduction and Business Problem](#intro)  \n",
    "2. [Initial Import of Dataset and Necessary Libraries](#init)  \n",
    "3. [Statistical Analyses](#stats)  \n",
    "4. [Data Visualization](#data_viz)\n",
    "5. [Binary Classification Problem](#bin)  \n",
    "    a. [Test-Train Split](#bin_tt)  \n",
    "    b. [Data Pre-Processing](#bin_pre)  \n",
    "    c. [Training and Evaluating Models](#bin_train_eval)  \n",
    "    d. [Hyper-Parameter Optimization](#bin_hpo)  \n",
    "    e. [Evaluation of Binary Model](#bin_eval)\n",
    "6. [Multiclass Problem](#multi)  \n",
    "    a. [Statistical Manipulation](#stats_manip)  \n",
    "\n",
    "## Introduction and Business Problem <a name = intro></a>\n",
    "\n",
    "The final project for Machine Learning for Business tasked students with identifying a  problem that could be solved or facilitated by using ML techniques. The selected problem and its solution must lead to or inform some tangible decision that can be made by management. Consequently, the current project focuses on credit card loan applications. Specifically, the current project aims to train a model which can determine whether applicants are likely to pay their credit card loans back on time, whether late repayments are likely to eventually lead to full repayments, and, consequently, whether  to offer an applicant a credit card loan based on the expected profit that can be made from industry standard interest rates.\n",
    "\n",
    "\n",
    "## Initial Import of Dataset and Necessary Libraries  <a name = init></a>\n",
    "\n",
    "In this first cell, the libraries necessary for the current business problem are imported along with the selected [dataset](https://www.kaggle.com/datasets/rikdifos/credit-card-approval-prediction). The dataset in question is split into two separate CSV files, one containing client features (property ownership, marital status, annual income, etc.), while the other contains the status of client loan repayments going back several months. The information in the second CSV file will be used as the label for the current business problem. These files are `application_record.csv` and `credit_record.csv`, respectively.  \n",
    "\n",
    "However, since `credit_record.csv` contains data for several months for each individual client, there are several copies of each client ID number within the table. Furthermore, there are several clients on one CSV file that do not appear in the other. Consequently, a list of unique ID numbers shared across both CSV files is also created and stored in `shared_id_list`.  \n",
    "\n",
    "Finally, the basic information for both CSV files, along with the total number of unique ID numbers shared across both CSV files, are listed."
   ]
  },
  {
   "cell_type": "code",
   "execution_count": 1,
   "id": "9c1a0adf",
   "metadata": {},
   "outputs": [
    {
     "name": "stdout",
     "output_type": "stream",
     "text": [
      "<class 'pandas.core.frame.DataFrame'>\n",
      "RangeIndex: 1048575 entries, 0 to 1048574\n",
      "Data columns (total 3 columns):\n",
      " #   Column          Non-Null Count    Dtype \n",
      "---  ------          --------------    ----- \n",
      " 0   ID              1048575 non-null  int64 \n",
      " 1   MONTHS_BALANCE  1048575 non-null  int64 \n",
      " 2   STATUS          1048575 non-null  object\n",
      "dtypes: int64(2), object(1)\n",
      "memory usage: 24.0+ MB\n",
      "None\n",
      "<class 'pandas.core.frame.DataFrame'>\n",
      "RangeIndex: 438557 entries, 0 to 438556\n",
      "Data columns (total 18 columns):\n",
      " #   Column               Non-Null Count   Dtype  \n",
      "---  ------               --------------   -----  \n",
      " 0   ID                   438557 non-null  int64  \n",
      " 1   CODE_GENDER          438557 non-null  object \n",
      " 2   FLAG_OWN_CAR         438557 non-null  object \n",
      " 3   FLAG_OWN_REALTY      438557 non-null  object \n",
      " 4   CNT_CHILDREN         438557 non-null  int64  \n",
      " 5   AMT_INCOME_TOTAL     438557 non-null  float64\n",
      " 6   NAME_INCOME_TYPE     438557 non-null  object \n",
      " 7   NAME_EDUCATION_TYPE  438557 non-null  object \n",
      " 8   NAME_FAMILY_STATUS   438557 non-null  object \n",
      " 9   NAME_HOUSING_TYPE    438557 non-null  object \n",
      " 10  DAYS_BIRTH           438557 non-null  int64  \n",
      " 11  DAYS_EMPLOYED        438557 non-null  int64  \n",
      " 12  FLAG_MOBIL           438557 non-null  int64  \n",
      " 13  FLAG_WORK_PHONE      438557 non-null  int64  \n",
      " 14  FLAG_PHONE           438557 non-null  int64  \n",
      " 15  FLAG_EMAIL           438557 non-null  int64  \n",
      " 16  OCCUPATION_TYPE      304354 non-null  object \n",
      " 17  CNT_FAM_MEMBERS      438557 non-null  float64\n",
      "dtypes: float64(2), int64(8), object(8)\n",
      "memory usage: 60.2+ MB\n",
      "None\n",
      "Shared IDs: 36457\n"
     ]
    }
   ],
   "source": [
    "# Python ≥3.5 is required\n",
    "import sys\n",
    "assert sys.version_info >= (3, 5)\n",
    "\n",
    "# Scikit-Learn ≥0.20 is required\n",
    "import sklearn\n",
    "assert sklearn.__version__ >= \"0.20\"\n",
    "\n",
    "import matplotlib.pyplot as plt\n",
    "\n",
    "import os\n",
    "import pandas as pd\n",
    "import numpy as np\n",
    "import seaborn as sns\n",
    "\n",
    "from sklearn.pipeline import Pipeline\n",
    "from sklearn.preprocessing import StandardScaler\n",
    "from sklearn.model_selection import train_test_split\n",
    "from sklearn.impute import SimpleImputer\n",
    "from sklearn.preprocessing import OneHotEncoder \n",
    "from sklearn.pipeline import FeatureUnion\n",
    "from sklearn.base import BaseEstimator, TransformerMixin\n",
    "from sklearn.metrics import accuracy_score\n",
    "\n",
    "#Models\n",
    "from sklearn.linear_model import LogisticRegression\n",
    "from sklearn.tree import DecisionTreeClassifier\n",
    "from sklearn.ensemble import RandomForestClassifier\n",
    "from sklearn.svm import SVC\n",
    "\n",
    "\n",
    "# Model evaluation und visualization\n",
    "from sklearn.metrics import mean_squared_error\n",
    "from sklearn.model_selection import cross_val_score\n",
    "from sklearn.metrics import confusion_matrix\n",
    "from sklearn.metrics import roc_curve\n",
    "from sklearn.metrics import roc_auc_score\n",
    "from sklearn.metrics import precision_recall_curve\n",
    "\n",
    "# Hyperparameter optimization\n",
    "from sklearn.model_selection import RandomizedSearchCV\n",
    "from sklearn.model_selection import GridSearchCV\n",
    "\n",
    "credit_record = pd.read_csv(\"credit_record.csv\")\n",
    "app_record = pd.read_csv(\"application_record.csv\")\n",
    "shared_id_list = set(app_record[\"ID\"]).intersection(set(credit_record[\"ID\"]))\n",
    "\n",
    "print(credit_record.info())\n",
    "print(app_record.info())\n",
    "print(\"Shared IDs: \" + str(len(shared_id_list)))"
   ]
  },
  {
   "cell_type": "code",
   "execution_count": 2,
   "id": "c9cc7355",
   "metadata": {},
   "outputs": [
    {
     "data": {
      "text/html": [
       "<div>\n",
       "<style scoped>\n",
       "    .dataframe tbody tr th:only-of-type {\n",
       "        vertical-align: middle;\n",
       "    }\n",
       "\n",
       "    .dataframe tbody tr th {\n",
       "        vertical-align: top;\n",
       "    }\n",
       "\n",
       "    .dataframe thead th {\n",
       "        text-align: right;\n",
       "    }\n",
       "</style>\n",
       "<table border=\"1\" class=\"dataframe\">\n",
       "  <thead>\n",
       "    <tr style=\"text-align: right;\">\n",
       "      <th></th>\n",
       "      <th>ID</th>\n",
       "      <th>MONTHS_BALANCE</th>\n",
       "      <th>STATUS</th>\n",
       "    </tr>\n",
       "  </thead>\n",
       "  <tbody>\n",
       "    <tr>\n",
       "      <th>0</th>\n",
       "      <td>5001711</td>\n",
       "      <td>0</td>\n",
       "      <td>X</td>\n",
       "    </tr>\n",
       "    <tr>\n",
       "      <th>1</th>\n",
       "      <td>5001711</td>\n",
       "      <td>-1</td>\n",
       "      <td>0</td>\n",
       "    </tr>\n",
       "    <tr>\n",
       "      <th>2</th>\n",
       "      <td>5001711</td>\n",
       "      <td>-2</td>\n",
       "      <td>0</td>\n",
       "    </tr>\n",
       "    <tr>\n",
       "      <th>3</th>\n",
       "      <td>5001711</td>\n",
       "      <td>-3</td>\n",
       "      <td>0</td>\n",
       "    </tr>\n",
       "    <tr>\n",
       "      <th>4</th>\n",
       "      <td>5001712</td>\n",
       "      <td>0</td>\n",
       "      <td>C</td>\n",
       "    </tr>\n",
       "  </tbody>\n",
       "</table>\n",
       "</div>"
      ],
      "text/plain": [
       "        ID  MONTHS_BALANCE STATUS\n",
       "0  5001711               0      X\n",
       "1  5001711              -1      0\n",
       "2  5001711              -2      0\n",
       "3  5001711              -3      0\n",
       "4  5001712               0      C"
      ]
     },
     "execution_count": 2,
     "metadata": {},
     "output_type": "execute_result"
    }
   ],
   "source": [
    "credit_record.head()"
   ]
  },
  {
   "cell_type": "code",
   "execution_count": 3,
   "id": "10dc122f",
   "metadata": {},
   "outputs": [
    {
     "data": {
      "text/html": [
       "<div>\n",
       "<style scoped>\n",
       "    .dataframe tbody tr th:only-of-type {\n",
       "        vertical-align: middle;\n",
       "    }\n",
       "\n",
       "    .dataframe tbody tr th {\n",
       "        vertical-align: top;\n",
       "    }\n",
       "\n",
       "    .dataframe thead th {\n",
       "        text-align: right;\n",
       "    }\n",
       "</style>\n",
       "<table border=\"1\" class=\"dataframe\">\n",
       "  <thead>\n",
       "    <tr style=\"text-align: right;\">\n",
       "      <th></th>\n",
       "      <th>ID</th>\n",
       "      <th>CODE_GENDER</th>\n",
       "      <th>FLAG_OWN_CAR</th>\n",
       "      <th>FLAG_OWN_REALTY</th>\n",
       "      <th>CNT_CHILDREN</th>\n",
       "      <th>AMT_INCOME_TOTAL</th>\n",
       "      <th>NAME_INCOME_TYPE</th>\n",
       "      <th>NAME_EDUCATION_TYPE</th>\n",
       "      <th>NAME_FAMILY_STATUS</th>\n",
       "      <th>NAME_HOUSING_TYPE</th>\n",
       "      <th>DAYS_BIRTH</th>\n",
       "      <th>DAYS_EMPLOYED</th>\n",
       "      <th>FLAG_MOBIL</th>\n",
       "      <th>FLAG_WORK_PHONE</th>\n",
       "      <th>FLAG_PHONE</th>\n",
       "      <th>FLAG_EMAIL</th>\n",
       "      <th>OCCUPATION_TYPE</th>\n",
       "      <th>CNT_FAM_MEMBERS</th>\n",
       "    </tr>\n",
       "  </thead>\n",
       "  <tbody>\n",
       "    <tr>\n",
       "      <th>0</th>\n",
       "      <td>5008804</td>\n",
       "      <td>M</td>\n",
       "      <td>Y</td>\n",
       "      <td>Y</td>\n",
       "      <td>0</td>\n",
       "      <td>427500.0</td>\n",
       "      <td>Working</td>\n",
       "      <td>Higher education</td>\n",
       "      <td>Civil marriage</td>\n",
       "      <td>Rented apartment</td>\n",
       "      <td>-12005</td>\n",
       "      <td>-4542</td>\n",
       "      <td>1</td>\n",
       "      <td>1</td>\n",
       "      <td>0</td>\n",
       "      <td>0</td>\n",
       "      <td>NaN</td>\n",
       "      <td>2.0</td>\n",
       "    </tr>\n",
       "    <tr>\n",
       "      <th>1</th>\n",
       "      <td>5008805</td>\n",
       "      <td>M</td>\n",
       "      <td>Y</td>\n",
       "      <td>Y</td>\n",
       "      <td>0</td>\n",
       "      <td>427500.0</td>\n",
       "      <td>Working</td>\n",
       "      <td>Higher education</td>\n",
       "      <td>Civil marriage</td>\n",
       "      <td>Rented apartment</td>\n",
       "      <td>-12005</td>\n",
       "      <td>-4542</td>\n",
       "      <td>1</td>\n",
       "      <td>1</td>\n",
       "      <td>0</td>\n",
       "      <td>0</td>\n",
       "      <td>NaN</td>\n",
       "      <td>2.0</td>\n",
       "    </tr>\n",
       "    <tr>\n",
       "      <th>2</th>\n",
       "      <td>5008806</td>\n",
       "      <td>M</td>\n",
       "      <td>Y</td>\n",
       "      <td>Y</td>\n",
       "      <td>0</td>\n",
       "      <td>112500.0</td>\n",
       "      <td>Working</td>\n",
       "      <td>Secondary / secondary special</td>\n",
       "      <td>Married</td>\n",
       "      <td>House / apartment</td>\n",
       "      <td>-21474</td>\n",
       "      <td>-1134</td>\n",
       "      <td>1</td>\n",
       "      <td>0</td>\n",
       "      <td>0</td>\n",
       "      <td>0</td>\n",
       "      <td>Security staff</td>\n",
       "      <td>2.0</td>\n",
       "    </tr>\n",
       "    <tr>\n",
       "      <th>3</th>\n",
       "      <td>5008808</td>\n",
       "      <td>F</td>\n",
       "      <td>N</td>\n",
       "      <td>Y</td>\n",
       "      <td>0</td>\n",
       "      <td>270000.0</td>\n",
       "      <td>Commercial associate</td>\n",
       "      <td>Secondary / secondary special</td>\n",
       "      <td>Single / not married</td>\n",
       "      <td>House / apartment</td>\n",
       "      <td>-19110</td>\n",
       "      <td>-3051</td>\n",
       "      <td>1</td>\n",
       "      <td>0</td>\n",
       "      <td>1</td>\n",
       "      <td>1</td>\n",
       "      <td>Sales staff</td>\n",
       "      <td>1.0</td>\n",
       "    </tr>\n",
       "    <tr>\n",
       "      <th>4</th>\n",
       "      <td>5008809</td>\n",
       "      <td>F</td>\n",
       "      <td>N</td>\n",
       "      <td>Y</td>\n",
       "      <td>0</td>\n",
       "      <td>270000.0</td>\n",
       "      <td>Commercial associate</td>\n",
       "      <td>Secondary / secondary special</td>\n",
       "      <td>Single / not married</td>\n",
       "      <td>House / apartment</td>\n",
       "      <td>-19110</td>\n",
       "      <td>-3051</td>\n",
       "      <td>1</td>\n",
       "      <td>0</td>\n",
       "      <td>1</td>\n",
       "      <td>1</td>\n",
       "      <td>Sales staff</td>\n",
       "      <td>1.0</td>\n",
       "    </tr>\n",
       "  </tbody>\n",
       "</table>\n",
       "</div>"
      ],
      "text/plain": [
       "        ID CODE_GENDER FLAG_OWN_CAR FLAG_OWN_REALTY  CNT_CHILDREN  \\\n",
       "0  5008804           M            Y               Y             0   \n",
       "1  5008805           M            Y               Y             0   \n",
       "2  5008806           M            Y               Y             0   \n",
       "3  5008808           F            N               Y             0   \n",
       "4  5008809           F            N               Y             0   \n",
       "\n",
       "   AMT_INCOME_TOTAL      NAME_INCOME_TYPE            NAME_EDUCATION_TYPE  \\\n",
       "0          427500.0               Working               Higher education   \n",
       "1          427500.0               Working               Higher education   \n",
       "2          112500.0               Working  Secondary / secondary special   \n",
       "3          270000.0  Commercial associate  Secondary / secondary special   \n",
       "4          270000.0  Commercial associate  Secondary / secondary special   \n",
       "\n",
       "     NAME_FAMILY_STATUS  NAME_HOUSING_TYPE  DAYS_BIRTH  DAYS_EMPLOYED  \\\n",
       "0        Civil marriage   Rented apartment      -12005          -4542   \n",
       "1        Civil marriage   Rented apartment      -12005          -4542   \n",
       "2               Married  House / apartment      -21474          -1134   \n",
       "3  Single / not married  House / apartment      -19110          -3051   \n",
       "4  Single / not married  House / apartment      -19110          -3051   \n",
       "\n",
       "   FLAG_MOBIL  FLAG_WORK_PHONE  FLAG_PHONE  FLAG_EMAIL OCCUPATION_TYPE  \\\n",
       "0           1                1           0           0             NaN   \n",
       "1           1                1           0           0             NaN   \n",
       "2           1                0           0           0  Security staff   \n",
       "3           1                0           1           1     Sales staff   \n",
       "4           1                0           1           1     Sales staff   \n",
       "\n",
       "   CNT_FAM_MEMBERS  \n",
       "0              2.0  \n",
       "1              2.0  \n",
       "2              2.0  \n",
       "3              1.0  \n",
       "4              1.0  "
      ]
     },
     "execution_count": 3,
     "metadata": {},
     "output_type": "execute_result"
    }
   ],
   "source": [
    "app_record.head()"
   ]
  },
  {
   "cell_type": "markdown",
   "id": "9ff7af3e",
   "metadata": {},
   "source": [
    "### Further dataset manipulation\n",
    "\n",
    "In order to assess the business problem in question, only clients whose information appears in both CSV files can be used. Therefore, new DataFrames are made from both the application data and credit record data, only containing ID numbers that appear across both CSV files."
   ]
  },
  {
   "cell_type": "code",
   "execution_count": 4,
   "id": "d7ca9680",
   "metadata": {},
   "outputs": [
    {
     "name": "stdout",
     "output_type": "stream",
     "text": [
      "<class 'pandas.core.frame.DataFrame'>\n",
      "Int64Index: 777715 entries, 92938 to 1048574\n",
      "Data columns (total 3 columns):\n",
      " #   Column          Non-Null Count   Dtype \n",
      "---  ------          --------------   ----- \n",
      " 0   ID              777715 non-null  int64 \n",
      " 1   MONTHS_BALANCE  777715 non-null  int64 \n",
      " 2   STATUS          777715 non-null  object\n",
      "dtypes: int64(2), object(1)\n",
      "memory usage: 23.7+ MB\n",
      "None\n",
      "<class 'pandas.core.frame.DataFrame'>\n",
      "Int64Index: 36457 entries, 0 to 434812\n",
      "Data columns (total 18 columns):\n",
      " #   Column               Non-Null Count  Dtype  \n",
      "---  ------               --------------  -----  \n",
      " 0   ID                   36457 non-null  int64  \n",
      " 1   CODE_GENDER          36457 non-null  object \n",
      " 2   FLAG_OWN_CAR         36457 non-null  object \n",
      " 3   FLAG_OWN_REALTY      36457 non-null  object \n",
      " 4   CNT_CHILDREN         36457 non-null  int64  \n",
      " 5   AMT_INCOME_TOTAL     36457 non-null  float64\n",
      " 6   NAME_INCOME_TYPE     36457 non-null  object \n",
      " 7   NAME_EDUCATION_TYPE  36457 non-null  object \n",
      " 8   NAME_FAMILY_STATUS   36457 non-null  object \n",
      " 9   NAME_HOUSING_TYPE    36457 non-null  object \n",
      " 10  DAYS_BIRTH           36457 non-null  int64  \n",
      " 11  DAYS_EMPLOYED        36457 non-null  int64  \n",
      " 12  FLAG_MOBIL           36457 non-null  int64  \n",
      " 13  FLAG_WORK_PHONE      36457 non-null  int64  \n",
      " 14  FLAG_PHONE           36457 non-null  int64  \n",
      " 15  FLAG_EMAIL           36457 non-null  int64  \n",
      " 16  OCCUPATION_TYPE      25134 non-null  object \n",
      " 17  CNT_FAM_MEMBERS      36457 non-null  float64\n",
      "dtypes: float64(2), int64(8), object(8)\n",
      "memory usage: 5.3+ MB\n",
      "None\n"
     ]
    }
   ],
   "source": [
    "# Create DataFrames with only shared IDs\n",
    "shared_credit_record = credit_record[credit_record[\"ID\"].isin(shared_id_list)]\n",
    "shared_app_record = app_record[app_record[\"ID\"].isin(shared_id_list)]\n",
    "\n",
    "print(shared_credit_record.info())\n",
    "print(shared_app_record.info())"
   ]
  },
  {
   "cell_type": "markdown",
   "id": "e369aa0e",
   "metadata": {},
   "source": [
    "## Statistical Analyses <a name = stats></a>\n",
    "\n",
    "An initial statistical analysis of the credit record dataset is necessary in order to determine appropriate next steps. In the following two cells, the most recent loan repayment status and the most delayed loan repayment status for each client is found and frequencies are displayed in both numeric, normalized, and graphical formats.  \n",
    "\n",
    "To improve readability, the definition for the loan repayment status symbol is available in the table below:  \n",
    "\n",
    "| Symbol | Description |\n",
    "| :---: | :---: |\n",
    "| C | Loan paid off in full for the month |\n",
    "| X | No loan for the month |\n",
    "| 0 | Loan less than 30 days past due |\n",
    "| 1 | Loan less than 60 days past due |\n",
    "| 2 | Loan less than 90 days past due |\n",
    "| 3 | Loan less than 120 days past due |\n",
    "| 4 | Loan less than 150 days past due |\n",
    "| 5 | Overdue loans or bad debts, write-offs |"
   ]
  },
  {
   "cell_type": "code",
   "execution_count": 5,
   "id": "9750de04",
   "metadata": {},
   "outputs": [
    {
     "name": "stdout",
     "output_type": "stream",
     "text": [
      "C    17950\n",
      "X     9669\n",
      "0     8456\n",
      "1      276\n",
      "5       76\n",
      "2       19\n",
      "3        6\n",
      "4        5\n",
      "Name: STATUS, dtype: int64\n",
      "C    0.492361\n",
      "X    0.265217\n",
      "0    0.231944\n",
      "1    0.007571\n",
      "5    0.002085\n",
      "2    0.000521\n",
      "3    0.000165\n",
      "4    0.000137\n",
      "Name: STATUS, dtype: float64\n"
     ]
    },
    {
     "data": {
      "text/plain": [
       "<AxesSubplot:xlabel='STATUS'>"
      ]
     },
     "execution_count": 5,
     "metadata": {},
     "output_type": "execute_result"
    },
    {
     "data": {
      "image/png": "[encoded data removed]",
      "text/plain": [
       "<Figure size 432x288 with 1 Axes>"
      ]
     },
     "metadata": {
      "needs_background": "light"
     },
     "output_type": "display_data"
    }
   ],
   "source": [
    "# Most recent loan status for IDs that appear in both tables\n",
    "shared_credit_record_recent = shared_credit_record.drop_duplicates(subset=\"ID\", ignore_index=True)\n",
    "\n",
    "print(shared_credit_record_recent[\"STATUS\"].value_counts())\n",
    "print(shared_credit_record_recent[\"STATUS\"].value_counts(normalize=True))\n",
    "\n",
    "df = pd.DataFrame({\"STATUS\":['C', 'X', '0', '1', '2', '3', '4', '5'], \"COUNT\":[17950, 9669, 8456, 276, 19, 6, 5, 76]})\n",
    "df.plot.bar(x=\"STATUS\", y=\"COUNT\", rot=0)"
   ]
  },
  {
   "cell_type": "markdown",
   "id": "3e0aaf9c",
   "metadata": {},
   "source": [
    "**Note: The for loop below takes around 30 to 40 seconds to run**  \n",
    "As mentioned in the accompanying comment, there is likely a better way to implement this logic, but for the purposes of the current project, the delay is not particularly significant, and the loop outputs the desired result."
   ]
  },
  {
   "cell_type": "code",
   "execution_count": 6,
   "id": "e79b6543",
   "metadata": {
    "scrolled": true
   },
   "outputs": [
    {
     "name": "stdout",
     "output_type": "stream",
     "text": [
      "<class 'pandas.core.frame.DataFrame'>\n",
      "Int64Index: 36457 entries, 0 to 0\n",
      "Data columns (total 2 columns):\n",
      " #   Column  Non-Null Count  Dtype \n",
      "---  ------  --------------  ----- \n",
      " 0   ID      36457 non-null  object\n",
      " 1   STATUS  36457 non-null  object\n",
      "dtypes: object(2)\n",
      "memory usage: 854.5+ KB\n",
      "None\n",
      "2    27711\n",
      "3     3675\n",
      "0     3347\n",
      "1     1108\n",
      "4      314\n",
      "7      180\n",
      "5       76\n",
      "6       46\n",
      "Name: STATUS, dtype: int64\n",
      "2    0.760101\n",
      "3    0.100804\n",
      "0    0.091807\n",
      "1    0.030392\n",
      "4    0.008613\n",
      "7    0.004937\n",
      "5    0.002085\n",
      "6    0.001262\n",
      "Name: STATUS, dtype: float64\n"
     ]
    },
    {
     "data": {
      "text/plain": [
       "<AxesSubplot:xlabel='STATUS'>"
      ]
     },
     "execution_count": 6,
     "metadata": {},
     "output_type": "execute_result"
    },
    {
     "data": {
      "image/png": "[encoded data removed]",
      "text/plain": [
       "<Figure size 432x288 with 1 Axes>"
      ]
     },
     "metadata": {
      "needs_background": "light"
     },
     "output_type": "display_data"
    }
   ],
   "source": [
    "# Create copy of shared_credit_record\n",
    "shared_credit_record_latest = shared_credit_record.copy()\n",
    "\n",
    "# Replace objects in STATUS with ints to facilitate comparisons\n",
    "sym_status = [\"5\", \"4\", \"3\", \"2\", \"1\", \"0\", \"C\", \"X\"]\n",
    "val_status = [7, 6, 5, 4, 3, 2, 1, 0]\n",
    "\n",
    "for s, v in zip(sym_status, val_status):\n",
    "    shared_credit_record_latest[\"STATUS\"] = shared_credit_record_latest[\"STATUS\"].replace(to_replace=s, value=v)\n",
    "    \n",
    "# Verify replacement occured correctly\n",
    "#print(shared_credit_record[\"STATUS\"].value_counts())\n",
    "#print(shared_credit_record_latest[\"STATUS\"].value_counts())\n",
    "\n",
    "# Find most delayed status for each unique ID\n",
    "output_df = pd.DataFrame(columns=[\"ID\", \"STATUS\"])\n",
    "\n",
    "# There is likely a better way to implement what this for loop is doing, but for the purposes of this project it is sufficient \n",
    "# Maybe using the merge and groupby functions?\n",
    "for ID in shared_id_list:\n",
    "    delay_df = shared_credit_record_latest.loc[shared_credit_record_latest[\"ID\"] == ID]\n",
    "    most_delayed = delay_df[\"STATUS\"].max()\n",
    "    d = {\"ID\": [ID], \"STATUS\": [most_delayed]}\n",
    "    output_df = pd.concat([output_df, pd.DataFrame(data=d)])\n",
    "\n",
    "print(output_df.info())\n",
    "print(output_df[\"STATUS\"].value_counts())\n",
    "print(output_df[\"STATUS\"].value_counts(normalize=True))\n",
    "\n",
    "df = pd.DataFrame({\"STATUS\":['C', 'X', '0', '1', '2', '3', '4', '5'], \"COUNT\":[1108, 3347, 27711, 3675, 314, 76, 46, 180]})\n",
    "df.plot.bar(x=\"STATUS\", y=\"COUNT\", rot=0)"
   ]
  },
  {
   "cell_type": "markdown",
   "id": "5c69eb7a",
   "metadata": {},
   "source": [
    "## Data Visualization <a name = \"data_viz\"></a>\n",
    "https://seaborn.pydata.org/tutorial/categorical.html"
   ]
  },
  {
   "cell_type": "markdown",
   "id": "89594ebf",
   "metadata": {},
   "source": [
    "# Binary Classification Problem <a name = bin></a>\n",
    "The first step in addressing the business question is to train a binary classification model to distinguish between \"good\" applicants and \"bad\" applicants. For the purpose of the current project, good applicants were classified as individuals who had never been more than two months late on loan repayments. This cutoff point was determined based on two main factors. Initially, the cutoff for good applicants was planned to be at three months, as [consumer credit default is commonly defined as delinquency beyond a period of 90 days](https://www.sciencedirect.com/science/article/abs/pii/S0939362518302875). However, based on the observed distribution of the data, the two-month cutoff was selected due to the small number of defaults present in the database according to the three-month definition cited above.  \n",
    "\n",
    "## Test-Train Split <a name = bin_tt></a>\n",
    "In order to train a model using, the available data must be split into testing and training data. In the current example, the relative sizes of these sets were determined to be 80% and 20% of the available data, respectively.  \n",
    "\n",
    "Prior to performing the split, however, the application record data must be merged with the credit record data into a single DataFrame. This was done using the `shared_app_record` DataFrame and the `output_df` DataFrame, as the current task requires an investigation of the latest an individual has ever paid back a credit card loan. Following the merge, the `\"ID\"` column is dropped from the DataFrame, as it holds no relevant financial information. Next, the `\"STATUS\"` column is edited to reflect the binary distinction between good and bad applicants as outlined above. The now binary `\"STATUS\"` column is copied into the `binary_label` variable and dropped from the `binary_features` variable. These are then used as function inputs for `train_test_split()`, which randomly assigns their entries to either training or testing data."
   ]
  },
  {
   "cell_type": "code",
   "execution_count": 7,
   "id": "4087e623",
   "metadata": {},
   "outputs": [
    {
     "name": "stdout",
     "output_type": "stream",
     "text": [
      "(29165, 17)\n",
      "(7292, 17)\n",
      "(29165,)\n",
      "(7292,)\n"
     ]
    }
   ],
   "source": [
    "# Combine application record with most delayed repayment using ID numbers\n",
    "combined_binary = shared_app_record.merge(output_df, on=\"ID\")\n",
    "combined_binary.drop(labels=\"ID\", axis=1, inplace=True)\n",
    "\n",
    "# Clients with maximum repayment delays of less than two months (enconded as the int 3) are considered good\n",
    "combined_binary.loc[combined_binary[\"STATUS\"] <= 3, [\"STATUS\"]] = 0\n",
    "\n",
    "# Clients with maximum repayment delays of more than two months (all those that weren't encoded in the previous line) \n",
    "# are considered bad\n",
    "combined_binary.loc[combined_binary[\"STATUS\"] > 0, [\"STATUS\"]] = 1\n",
    "\n",
    "# Create a copy of the most delayed repayment for each unique ID\n",
    "binary_label = combined_binary[\"STATUS\"].copy()\n",
    "\n",
    "# Remove each individual's status to hide from training models\n",
    "binary_features = combined_binary.drop(labels=\"STATUS\", axis=1)\n",
    "\n",
    "# Run train_test_split() using the label and feature DataFrames as inputs\n",
    "binary_features, binary_features_test, binary_label, binary_label_test = train_test_split(binary_features, binary_label, \n",
    "                                                                                          test_size=0.2, random_state=42)\n",
    "\n",
    "# Verify train_test_split worked as intended\n",
    "print(binary_features.shape)\n",
    "print(binary_features_test.shape)\n",
    "print(binary_label.shape)\n",
    "print(binary_label_test.shape)"
   ]
  },
  {
   "cell_type": "markdown",
   "id": "77757b28",
   "metadata": {},
   "source": [
    "**Note: We know the test-train split worked as intended since the dimensionality of both features sets and both label sets are equivalent. Furthermore, the number of entries in both test sets and in both training sets are also seen to be identical.**  \n",
    "In this case, both feature sets have 17 features, while both label sets are one-dimensional. Both test sets are comprised of 7,292 entries, while both training sets are comprised of 29,165 entries."
   ]
  },
  {
   "cell_type": "markdown",
   "id": "237d4972",
   "metadata": {},
   "source": [
    "## Data Pre-Processing <a name = bin_pre></a>\n",
    "\n",
    "Following the test-train split, certain subsequent steps must be taken on the training data in order to ensure said data is fit to train a model. These steps can include imputing missing data points, encoding categorical features, and over- or under-sampling the training data.\n",
    "\n",
    "### Imputing\n",
    "\n",
    "The first step is to impute any missing data. In this case, only `\"OCCUPATION_TYPE\"` has any null values. These null values were replaced with `\"Unknown\"`, as it was determined that an individual's occupation could potentially be an important consideration in certain cases, so it would be inappropriate to drop the feature completely."
   ]
  },
  {
   "cell_type": "code",
   "execution_count": 8,
   "id": "ff88a61a",
   "metadata": {},
   "outputs": [],
   "source": [
    "# Check for null entries in each feature\n",
    "#for i in binary_features:\n",
    "#    print(i, binary_features[i].isnull().sum())\n",
    "    \n",
    "# Map null \"OCCUPATION_TYPE\" to \"Unknown\"\n",
    "binary_features[\"OCCUPATION_TYPE\"].fillna(value=\"Unknown\", inplace=True)\n",
    "binary_features_test[\"OCCUPATION_TYPE\"].fillna(value=\"Unknown\", inplace=True)\n",
    "\n",
    "# Confirm map worked as intended\n",
    "#print(binary_features.info())\n",
    "#for i in binary_features:\n",
    "#    print(i, binary_features[i].isnull().sum())\n",
    "    \n",
    "#print(binary_features_test.info())\n",
    "#for i in binary_features_test:\n",
    "#    print(i, binary_features_test[i].isnull().sum())"
   ]
  },
  {
   "cell_type": "markdown",
   "id": "b6103855",
   "metadata": {},
   "source": [
    "### Encoding\n",
    "\n",
    "Following imputation, categorical data must be encoded numerically. For certain features, such as the gender of an individual or whether they own property, this task is trivial. However, for other categorical features, a more complex encoding method must be used. In this case, [sklearn's Pipeline function](https://scikit-learn.org/stable/modules/generated/sklearn.pipeline.Pipeline.html) will be used with [One-Hot-Encoder](https://scikit-learn.org/stable/modules/generated/sklearn.preprocessing.OneHotEncoder.html)."
   ]
  },
  {
   "cell_type": "code",
   "execution_count": 9,
   "id": "84502d27",
   "metadata": {},
   "outputs": [],
   "source": [
    "# Encode simple binary categorical features as integers\n",
    "binary_features[\"CODE_GENDER\"] = binary_features[\"CODE_GENDER\"].map({\"M\":1, \"F\":0})\n",
    "binary_features_test[\"CODE_GENDER\"] = binary_features_test[\"CODE_GENDER\"].map({\"M\":1, \"F\":0})\n",
    "binary_features[\"FLAG_OWN_CAR\"] = binary_features[\"FLAG_OWN_CAR\"].map({\"Y\":1, \"N\":0})\n",
    "binary_features_test[\"FLAG_OWN_CAR\"] = binary_features_test[\"FLAG_OWN_CAR\"].map({\"Y\":1, \"N\":0})\n",
    "binary_features[\"FLAG_OWN_REALTY\"] = binary_features[\"FLAG_OWN_REALTY\"].map({\"Y\":1, \"N\":0})\n",
    "binary_features_test[\"FLAG_OWN_REALTY\"] = binary_features_test[\"FLAG_OWN_REALTY\"].map({\"Y\":1, \"N\":0})\n",
    "\n",
    "# Check which categorical features still need to be encoded\n",
    "#print(binary_features.info())\n",
    "\n",
    "# Create a list of remaining categorical features\n",
    "cat_feature_names = binary_features.select_dtypes(exclude=[\"int64\", \"float64\"])\n",
    "cat_feature_names = cat_feature_names.keys()\n",
    "#for i in cat_feature_names:\n",
    "#    print(i)"
   ]
  },
  {
   "cell_type": "code",
   "execution_count": 10,
   "id": "bc2d50cd",
   "metadata": {},
   "outputs": [],
   "source": [
    "# This class is required for sklearn's Pipeline function to work correctly\n",
    "# The code for the class and its member functions was taken from class materials\n",
    "class DataFrameSelector(BaseEstimator, TransformerMixin):\n",
    "    def __init__(self, feature_names):\n",
    "        self.attribute_names = feature_names\n",
    "    def fit(self, X, y=None):\n",
    "        return self\n",
    "    def transform(self, X):\n",
    "        return X[self.attribute_names].values"
   ]
  },
  {
   "cell_type": "code",
   "execution_count": 11,
   "id": "a33114ad",
   "metadata": {},
   "outputs": [
    {
     "name": "stdout",
     "output_type": "stream",
     "text": [
      "(29165, 35)\n"
     ]
    }
   ],
   "source": [
    "pipeline = Pipeline([('selector', DataFrameSelector(cat_feature_names)),\n",
    "                     ('cat_encoder', OneHotEncoder(drop=\"first\", sparse=False)),])\n",
    "\n",
    "binary_features_piped = pipeline.fit_transform(binary_features)\n",
    "\n",
    "print(binary_features_piped.shape)"
   ]
  },
  {
   "cell_type": "markdown",
   "id": "bba7b5b0",
   "metadata": {},
   "source": [
    "### Over-Sampling\n",
    "\n",
    "Due to the uneven distribution of data, as apparent in the output of cell 6, the training data must over-sample minority class data. To do this, random entries which fall into the bad applicant category will be made so that the distribution of the training data is sufficient to effectively train the models. In this case, the [SMOTE().fit_resample() function](https://imbalanced-learn.org/stable/references/generated/imblearn.over_sampling.SMOTE.html#imblearn.over_sampling.SMOTE.fit_resample) was used. SMOTE was used over random over-sampling to minimize the chances the resultant models will overfit the training data."
   ]
  },
  {
   "cell_type": "code",
   "execution_count": 12,
   "id": "c60db02f",
   "metadata": {},
   "outputs": [
    {
     "name": "stdout",
     "output_type": "stream",
     "text": [
      "Size before over-sampling:\n",
      "(29165, 35)\n",
      "(29165,)\n",
      "Size after over-sampling:\n",
      "(57332, 35)\n",
      "(57332,)\n",
      "Oversampled portion:\n",
      "0.5\n"
     ]
    }
   ],
   "source": [
    "from imblearn.over_sampling import SMOTE\n",
    "\n",
    "print(\"Size before over-sampling:\")\n",
    "print(binary_features_piped.shape)\n",
    "print(binary_label.shape)\n",
    "\n",
    "binary_label = binary_label.astype(\"int\")\n",
    "\n",
    "binary_features_oversampled, binary_label_oversampled = SMOTE().fit_resample(binary_features_piped, binary_label)\n",
    "\n",
    "print(\"Size after over-sampling:\")\n",
    "print(binary_features_oversampled.shape)\n",
    "print(binary_label_oversampled.shape)\n",
    "\n",
    "print(\"Oversampled portion:\")\n",
    "print(sum(binary_label_oversampled)/len(binary_label_oversampled))"
   ]
  },
  {
   "cell_type": "markdown",
   "id": "fe921104",
   "metadata": {},
   "source": [
    "## Training and Evaluating Models <a name = bin_train_eval></a>\n",
    "\n",
    "For the current binary classification problem, three models will be trained and evaluated. These are as follows:\n",
    "   - [Logistic Regression](#bin_log)\n",
    "   - [Random Forest](#bin_randf)\n",
    "   - [Support Vector Machine](#bin_svm)  \n",
    "\n",
    "More detail on why each type of model was selected can be found in their respective sections.  \n",
    "\n",
    "### Logistic Regression <a name = bin_log></a>\n",
    "\n",
    "[Logistic regression models](https://www.ibm.com/topics/logistic-regression) are one of the more basic machine learning models and are well suited to problems of binary distinction. Due to the simplicity of logistic regression models, the coefficients generated by these models are more easily understood by humans. This is a benefit of using these types of models, as it becomes easier to explain why certain decisions are being made by the algorithm. For the current business problem, where individuals are being denied credit card loans, this interpretability and explainability is an important consideration."
   ]
  },
  {
   "cell_type": "code",
   "execution_count": 13,
   "id": "5cd9b75b",
   "metadata": {},
   "outputs": [
    {
     "data": {
      "text/html": [
       "<style>#sk-container-id-1 {color: black;background-color: white;}#sk-container-id-1 pre{padding: 0;}#sk-container-id-1 div.sk-toggleable {background-color: white;}#sk-container-id-1 label.sk-toggleable__label {cursor: pointer;display: block;width: 100%;margin-bottom: 0;padding: 0.3em;box-sizing: border-box;text-align: center;}#sk-container-id-1 label.sk-toggleable__label-arrow:before {content: \"▸\";float: left;margin-right: 0.25em;color: #696969;}#sk-container-id-1 label.sk-toggleable__label-arrow:hover:before {color: black;}#sk-container-id-1 div.sk-estimator:hover label.sk-toggleable__label-arrow:before {color: black;}#sk-container-id-1 div.sk-toggleable__content {max-height: 0;max-width: 0;overflow: hidden;text-align: left;background-color: #f0f8ff;}#sk-container-id-1 div.sk-toggleable__content pre {margin: 0.2em;color: black;border-radius: 0.25em;background-color: #f0f8ff;}#sk-container-id-1 input.sk-toggleable__control:checked~div.sk-toggleable__content {max-height: 200px;max-width: 100%;overflow: auto;}#sk-container-id-1 input.sk-toggleable__control:checked~label.sk-toggleable__label-arrow:before {content: \"▾\";}#sk-container-id-1 div.sk-estimator input.sk-toggleable__control:checked~label.sk-toggleable__label {background-color: #d4ebff;}#sk-container-id-1 div.sk-label input.sk-toggleable__control:checked~label.sk-toggleable__label {background-color: #d4ebff;}#sk-container-id-1 input.sk-hidden--visually {border: 0;clip: rect(1px 1px 1px 1px);clip: rect(1px, 1px, 1px, 1px);height: 1px;margin: -1px;overflow: hidden;padding: 0;position: absolute;width: 1px;}#sk-container-id-1 div.sk-estimator {font-family: monospace;background-color: #f0f8ff;border: 1px dotted black;border-radius: 0.25em;box-sizing: border-box;margin-bottom: 0.5em;}#sk-container-id-1 div.sk-estimator:hover {background-color: #d4ebff;}#sk-container-id-1 div.sk-parallel-item::after {content: \"\";width: 100%;border-bottom: 1px solid gray;flex-grow: 1;}#sk-container-id-1 div.sk-label:hover label.sk-toggleable__label {background-color: #d4ebff;}#sk-container-id-1 div.sk-serial::before {content: \"\";position: absolute;border-left: 1px solid gray;box-sizing: border-box;top: 0;bottom: 0;left: 50%;z-index: 0;}#sk-container-id-1 div.sk-serial {display: flex;flex-direction: column;align-items: center;background-color: white;padding-right: 0.2em;padding-left: 0.2em;position: relative;}#sk-container-id-1 div.sk-item {position: relative;z-index: 1;}#sk-container-id-1 div.sk-parallel {display: flex;align-items: stretch;justify-content: center;background-color: white;position: relative;}#sk-container-id-1 div.sk-item::before, #sk-container-id-1 div.sk-parallel-item::before {content: \"\";position: absolute;border-left: 1px solid gray;box-sizing: border-box;top: 0;bottom: 0;left: 50%;z-index: -1;}#sk-container-id-1 div.sk-parallel-item {display: flex;flex-direction: column;z-index: 1;position: relative;background-color: white;}#sk-container-id-1 div.sk-parallel-item:first-child::after {align-self: flex-end;width: 50%;}#sk-container-id-1 div.sk-parallel-item:last-child::after {align-self: flex-start;width: 50%;}#sk-container-id-1 div.sk-parallel-item:only-child::after {width: 0;}#sk-container-id-1 div.sk-dashed-wrapped {border: 1px dashed gray;margin: 0 0.4em 0.5em 0.4em;box-sizing: border-box;padding-bottom: 0.4em;background-color: white;}#sk-container-id-1 div.sk-label label {font-family: monospace;font-weight: bold;display: inline-block;line-height: 1.2em;}#sk-container-id-1 div.sk-label-container {text-align: center;}#sk-container-id-1 div.sk-container {/* jupyter's `normalize.less` sets `[hidden] { display: none; }` but bootstrap.min.css set `[hidden] { display: none !important; }` so we also need the `!important` here to be able to override the default hidden behavior on the sphinx rendered scikit-learn.org. See: https://github.com/scikit-learn/scikit-learn/issues/21755 */display: inline-block !important;position: relative;}#sk-container-id-1 div.sk-text-repr-fallback {display: none;}</style><div id=\"sk-container-id-1\" class=\"sk-top-container\"><div class=\"sk-text-repr-fallback\"><pre>LogisticRegression(max_iter=1000, random_state=42)</pre><b>In a Jupyter environment, please rerun this cell to show the HTML representation or trust the notebook. <br />On GitHub, the HTML representation is unable to render, please try loading this page with nbviewer.org.</b></div><div class=\"sk-container\" hidden><div class=\"sk-item\"><div class=\"sk-estimator sk-toggleable\"><input class=\"sk-toggleable__control sk-hidden--visually\" id=\"sk-estimator-id-1\" type=\"checkbox\" checked><label for=\"sk-estimator-id-1\" class=\"sk-toggleable__label sk-toggleable__label-arrow\">LogisticRegression</label><div class=\"sk-toggleable__content\"><pre>LogisticRegression(max_iter=1000, random_state=42)</pre></div></div></div></div></div>"
      ],
      "text/plain": [
       "LogisticRegression(max_iter=1000, random_state=42)"
      ]
     },
     "execution_count": 13,
     "metadata": {},
     "output_type": "execute_result"
    }
   ],
   "source": [
    "logistic_regression = LogisticRegression(random_state=42, max_iter=1000)\n",
    "logistic_regression.fit(binary_features_oversampled, binary_label_oversampled)"
   ]
  },
  {
   "cell_type": "code",
   "execution_count": 14,
   "id": "08fdfe35",
   "metadata": {},
   "outputs": [
    {
     "name": "stdout",
     "output_type": "stream",
     "text": [
      "Mean Squared Error:  0.6654766233752939\n",
      "Accuracy:  0.5571408637410172\n"
     ]
    }
   ],
   "source": [
    "predictions = logistic_regression.predict(binary_features_oversampled)\n",
    "\n",
    "accuracy = accuracy_score(binary_label_oversampled, predictions)\n",
    "mse = mean_squared_error(binary_label_oversampled, predictions)\n",
    "rmse = np.sqrt(mse)\n",
    "\n",
    "print(\"Mean Squared Error: \", rmse)\n",
    "print(\"Accuracy: \", accuracy)"
   ]
  },
  {
   "cell_type": "markdown",
   "id": "f74177ec",
   "metadata": {},
   "source": [
    "**Note: The larger the accuracy, the better the prediction (to a maximum of 1). The smaller the MSE, the better the prediction (to a minimum of 0).**  \n",
    "The accuracy is the proportion of predictions that were correctly made. The MSE is the average squared difference between the estimated values and the actual value."
   ]
  },
  {
   "cell_type": "markdown",
   "id": "73fa8f33",
   "metadata": {},
   "source": [
    "Below, the optimized coefficients for all selected features can be found."
   ]
  },
  {
   "cell_type": "code",
   "execution_count": 15,
   "id": "8e958728",
   "metadata": {},
   "outputs": [
    {
     "name": "stdout",
     "output_type": "stream",
     "text": [
      "CODE_GENDER: 0.2694\n",
      "FLAG_OWN_CAR: -0.6225\n",
      "FLAG_OWN_REALTY: -1.5468\n",
      "CNT_CHILDREN: 0.0533\n",
      "AMT_INCOME_TOTAL: 1.3113\n",
      "DAYS_BIRTH: 1.3332\n",
      "DAYS_EMPLOYED: 1.3210\n",
      "FLAG_MOBIL: 1.2108\n",
      "FLAG_WORK_PHONE: 0.0483\n",
      "FLAG_PHONE: -0.1950\n",
      "FLAG_EMAIL: 0.3406\n",
      "CNT_FAM_MEMBERS: 0.5647\n"
     ]
    }
   ],
   "source": [
    "num_feature_names = binary_features.select_dtypes(include=[\"int64\", \"float64\"])\n",
    "num_feature_names = num_feature_names.keys()\n",
    "\n",
    "coefs = logistic_regression.coef_[0]\n",
    "for (a,c) in zip(num_feature_names,coefs):\n",
    "    print('%8s: %5.4f' % (a,c) )"
   ]
  },
  {
   "cell_type": "code",
   "execution_count": 16,
   "id": "0cc98594",
   "metadata": {},
   "outputs": [
    {
     "name": "stdout",
     "output_type": "stream",
     "text": [
      "NAME_INCOME_TYPE:\n",
      "    Default Category:  Working\n",
      "    Commercial associate: 0.9343\n",
      "          Pensioner: 0.9640\n",
      "      State servant: 0.0920\n",
      "            Student: 0.3371\n",
      "NAME_EDUCATION_TYPE:\n",
      "    Default Category:  Secondary / secondary special\n",
      "    Higher education: -1.2572\n",
      "    Incomplete higher: -1.0414\n",
      "    Lower secondary: -0.0085\n",
      "    Academic degree: 0.0459\n",
      "NAME_FAMILY_STATUS:\n",
      "    Default Category:  Married\n",
      "    Single / not married: -1.4272\n",
      "     Civil marriage: 0.0696\n",
      "          Separated: 0.8512\n",
      "              Widow: -0.3076\n",
      "NAME_HOUSING_TYPE:\n",
      "    Default Category:  House / apartment\n",
      "       With parents: 0.5378\n",
      "    Municipal apartment: -0.3154\n",
      "    Rented apartment: -0.7979\n",
      "    Office apartment: -2.6087\n",
      "    Co-op apartment: -3.1306\n",
      "OCCUPATION_TYPE:\n",
      "    Default Category:  Unknown\n",
      "           Laborers: -0.4883\n",
      "         Core staff: -1.0560\n",
      "        Sales staff: -0.2960\n",
      "           Managers: -0.4114\n",
      "            Drivers: -1.5970\n"
     ]
    }
   ],
   "source": [
    "first = 13\n",
    "for i in cat_feature_names:\n",
    "    coefs = logistic_regression.coef_[0][first:]\n",
    "    print(\"%15s:\" % (i))\n",
    "    cat = binary_features[i].value_counts()\n",
    "    print(\"    Default Category: \", cat.index[0])\n",
    "    cat.drop(cat.index[0], inplace=True)\n",
    "    for (ji,c) in zip(cat.index, coefs):\n",
    "        print('    %15s: %5.4f' % (ji, c) )\n",
    "        first += 1"
   ]
  },
  {
   "cell_type": "code",
   "execution_count": 17,
   "id": "0b91830d",
   "metadata": {},
   "outputs": [
    {
     "name": "stdout",
     "output_type": "stream",
     "text": [
      "Mean: 0.6654\n",
      "Standard deviation: 0.0064\n"
     ]
    }
   ],
   "source": [
    "scores = cross_val_score(logistic_regression, binary_features_oversampled, binary_label_oversampled,\n",
    "                         scoring=\"neg_mean_squared_error\", cv=10)\n",
    "rmse_scores = np.sqrt(-scores)\n",
    "\n",
    "def display_scores(scores):\n",
    "    print('Mean: %5.4f'%scores.mean())\n",
    "    print('Standard deviation: %5.4f'%scores.std())\n",
    "    \n",
    "display_scores(rmse_scores)"
   ]
  },
  {
   "cell_type": "markdown",
   "id": "1c5b2730",
   "metadata": {},
   "source": [
    "### Random Forest <a name = bin_randf></a>\n",
    "\n",
    "[Random Forest models](https://www.ibm.com/cloud/learn/random-forest) are machine learning algorithms which are made up of a ensemble of [decision trees](https://www.ibm.com/topics/decision-trees). The final output of a random forest is determined by the combination of outputs from its constituent decision trees. The constituent decision trees are made of randomly selected features, so random forests are consequently less prone to overfitting than single decision trees are and are also often more accurate. This has contributed to the popularity of this type of model, which also benefits from its ease of use and adaptability to a wide range of problems. However, random forest models are less interpretable and, consequently, less explainable than logistic regression models."
   ]
  },
  {
   "cell_type": "code",
   "execution_count": 18,
   "id": "3a031bf9",
   "metadata": {},
   "outputs": [
    {
     "data": {
      "text/html": [
       "<style>#sk-container-id-2 {color: black;background-color: white;}#sk-container-id-2 pre{padding: 0;}#sk-container-id-2 div.sk-toggleable {background-color: white;}#sk-container-id-2 label.sk-toggleable__label {cursor: pointer;display: block;width: 100%;margin-bottom: 0;padding: 0.3em;box-sizing: border-box;text-align: center;}#sk-container-id-2 label.sk-toggleable__label-arrow:before {content: \"▸\";float: left;margin-right: 0.25em;color: #696969;}#sk-container-id-2 label.sk-toggleable__label-arrow:hover:before {color: black;}#sk-container-id-2 div.sk-estimator:hover label.sk-toggleable__label-arrow:before {color: black;}#sk-container-id-2 div.sk-toggleable__content {max-height: 0;max-width: 0;overflow: hidden;text-align: left;background-color: #f0f8ff;}#sk-container-id-2 div.sk-toggleable__content pre {margin: 0.2em;color: black;border-radius: 0.25em;background-color: #f0f8ff;}#sk-container-id-2 input.sk-toggleable__control:checked~div.sk-toggleable__content {max-height: 200px;max-width: 100%;overflow: auto;}#sk-container-id-2 input.sk-toggleable__control:checked~label.sk-toggleable__label-arrow:before {content: \"▾\";}#sk-container-id-2 div.sk-estimator input.sk-toggleable__control:checked~label.sk-toggleable__label {background-color: #d4ebff;}#sk-container-id-2 div.sk-label input.sk-toggleable__control:checked~label.sk-toggleable__label {background-color: #d4ebff;}#sk-container-id-2 input.sk-hidden--visually {border: 0;clip: rect(1px 1px 1px 1px);clip: rect(1px, 1px, 1px, 1px);height: 1px;margin: -1px;overflow: hidden;padding: 0;position: absolute;width: 1px;}#sk-container-id-2 div.sk-estimator {font-family: monospace;background-color: #f0f8ff;border: 1px dotted black;border-radius: 0.25em;box-sizing: border-box;margin-bottom: 0.5em;}#sk-container-id-2 div.sk-estimator:hover {background-color: #d4ebff;}#sk-container-id-2 div.sk-parallel-item::after {content: \"\";width: 100%;border-bottom: 1px solid gray;flex-grow: 1;}#sk-container-id-2 div.sk-label:hover label.sk-toggleable__label {background-color: #d4ebff;}#sk-container-id-2 div.sk-serial::before {content: \"\";position: absolute;border-left: 1px solid gray;box-sizing: border-box;top: 0;bottom: 0;left: 50%;z-index: 0;}#sk-container-id-2 div.sk-serial {display: flex;flex-direction: column;align-items: center;background-color: white;padding-right: 0.2em;padding-left: 0.2em;position: relative;}#sk-container-id-2 div.sk-item {position: relative;z-index: 1;}#sk-container-id-2 div.sk-parallel {display: flex;align-items: stretch;justify-content: center;background-color: white;position: relative;}#sk-container-id-2 div.sk-item::before, #sk-container-id-2 div.sk-parallel-item::before {content: \"\";position: absolute;border-left: 1px solid gray;box-sizing: border-box;top: 0;bottom: 0;left: 50%;z-index: -1;}#sk-container-id-2 div.sk-parallel-item {display: flex;flex-direction: column;z-index: 1;position: relative;background-color: white;}#sk-container-id-2 div.sk-parallel-item:first-child::after {align-self: flex-end;width: 50%;}#sk-container-id-2 div.sk-parallel-item:last-child::after {align-self: flex-start;width: 50%;}#sk-container-id-2 div.sk-parallel-item:only-child::after {width: 0;}#sk-container-id-2 div.sk-dashed-wrapped {border: 1px dashed gray;margin: 0 0.4em 0.5em 0.4em;box-sizing: border-box;padding-bottom: 0.4em;background-color: white;}#sk-container-id-2 div.sk-label label {font-family: monospace;font-weight: bold;display: inline-block;line-height: 1.2em;}#sk-container-id-2 div.sk-label-container {text-align: center;}#sk-container-id-2 div.sk-container {/* jupyter's `normalize.less` sets `[hidden] { display: none; }` but bootstrap.min.css set `[hidden] { display: none !important; }` so we also need the `!important` here to be able to override the default hidden behavior on the sphinx rendered scikit-learn.org. See: https://github.com/scikit-learn/scikit-learn/issues/21755 */display: inline-block !important;position: relative;}#sk-container-id-2 div.sk-text-repr-fallback {display: none;}</style><div id=\"sk-container-id-2\" class=\"sk-top-container\"><div class=\"sk-text-repr-fallback\"><pre>RandomForestClassifier(random_state=42)</pre><b>In a Jupyter environment, please rerun this cell to show the HTML representation or trust the notebook. <br />On GitHub, the HTML representation is unable to render, please try loading this page with nbviewer.org.</b></div><div class=\"sk-container\" hidden><div class=\"sk-item\"><div class=\"sk-estimator sk-toggleable\"><input class=\"sk-toggleable__control sk-hidden--visually\" id=\"sk-estimator-id-2\" type=\"checkbox\" checked><label for=\"sk-estimator-id-2\" class=\"sk-toggleable__label sk-toggleable__label-arrow\">RandomForestClassifier</label><div class=\"sk-toggleable__content\"><pre>RandomForestClassifier(random_state=42)</pre></div></div></div></div></div>"
      ],
      "text/plain": [
       "RandomForestClassifier(random_state=42)"
      ]
     },
     "execution_count": 18,
     "metadata": {},
     "output_type": "execute_result"
    }
   ],
   "source": [
    "bin_forest = RandomForestClassifier(random_state=42)\n",
    "bin_forest.fit(binary_features_oversampled, binary_label_oversampled)"
   ]
  },
  {
   "cell_type": "code",
   "execution_count": 19,
   "id": "c16b52f3",
   "metadata": {},
   "outputs": [
    {
     "name": "stdout",
     "output_type": "stream",
     "text": [
      "Mean Squared Error:  0.49034848646409834\n",
      "Accuracy:  0.7595583618223679\n"
     ]
    }
   ],
   "source": [
    "predictions = bin_forest.predict(binary_features_oversampled)\n",
    "\n",
    "accuracy = accuracy_score(binary_label_oversampled, predictions)\n",
    "bin_forest_mse = mean_squared_error(binary_label_oversampled, predictions)\n",
    "bin_forest_rmse = np.sqrt(bin_forest_mse)\n",
    "\n",
    "print(\"Mean Squared Error: \", bin_forest_rmse)\n",
    "print(\"Accuracy: \", accuracy)"
   ]
  },
  {
   "cell_type": "code",
   "execution_count": 20,
   "id": "18d26a54",
   "metadata": {},
   "outputs": [
    {
     "name": "stdout",
     "output_type": "stream",
     "text": [
      "Mean: 0.4928\n",
      "Standard deviation: 0.0076\n"
     ]
    }
   ],
   "source": [
    "bin_forest_scores = cross_val_score(bin_forest, binary_features_oversampled, binary_label_oversampled,\n",
    "                                scoring=\"neg_mean_squared_error\", cv=10)\n",
    "bin_forest_rmse_scores = np.sqrt(-bin_forest_scores)\n",
    "\n",
    "display_scores(bin_forest_rmse_scores)"
   ]
  },
  {
   "cell_type": "markdown",
   "id": "39dfdb30",
   "metadata": {},
   "source": [
    "### Support Vector Machine <a name = bin_svm></a>\n",
    "[Support Vector Machines](https://scikit-learn.org/stable/modules/svm.html) are machine learning models that are useful for classification and regression problems with a large number of features. They are also versatile, as several different Kernel functions can be specified while training them. However, they are quite slow to train, and usually do not provide significantly better results than other models to justify the much greater time expense."
   ]
  },
  {
   "cell_type": "code",
   "execution_count": 21,
   "id": "747b1bff",
   "metadata": {},
   "outputs": [
    {
     "name": "stdout",
     "output_type": "stream",
     "text": [
      "CPU times: total: 2min 40s\n",
      "Wall time: 2min 44s\n",
      "Mean Squared Error:  0.5176875685337503\n",
      "Accuracy:  0.7319995813856136\n"
     ]
    }
   ],
   "source": [
    "bin_svm = SVC()\n",
    "%time bin_svm.fit(binary_features_oversampled, binary_label_oversampled)\n",
    "predictions = bin_svm.predict(binary_features_oversampled)\n",
    "\n",
    "accuracy = accuracy_score(binary_label_oversampled, predictions)\n",
    "bin_svm_mse = mean_squared_error(binary_label_oversampled, predictions)\n",
    "bin_svm_rmse = np.sqrt(bin_svm_mse)\n",
    "\n",
    "print(\"Mean Squared Error: \", bin_svm_rmse)\n",
    "print(\"Accuracy: \", accuracy)"
   ]
  },
  {
   "cell_type": "code",
   "execution_count": 22,
   "id": "596e5660",
   "metadata": {},
   "outputs": [
    {
     "name": "stdout",
     "output_type": "stream",
     "text": [
      "CPU times: total: 11min 42s\n",
      "Wall time: 11min 58s\n",
      "Mean: 0.5238\n",
      "Standard deviation: 0.0048\n"
     ]
    }
   ],
   "source": [
    "%time bin_svm_scores = cross_val_score(bin_svm, binary_features_oversampled, binary_label_oversampled, scoring=\"neg_mean_squared_error\", cv=5)\n",
    "bin_svm_rmse_scores = np.sqrt(-bin_svm_scores)\n",
    "display_scores(bin_svm_rmse_scores)"
   ]
  },
  {
   "cell_type": "markdown",
   "id": "e188a5c3",
   "metadata": {},
   "source": [
    "## Hyper-Parameter Optimization <a name = \"bin_hpo\"></a>\n",
    "The random forest model had the highest accuracy, lowest MSE, and lowest cross-validation mean of all three binary classification models.In order to improve it even further, the model's hyper-parameters must be optimized. This is done through [random search cross-validation](https://scikit-learn.org/stable/modules/generated/sklearn.model_selection.RandomizedSearchCV.html) in order to maximize the number of parameters that can be included during optimization without accruing too much of a computational and time expense. The random search function is seeking the random forest with the best [F-1 score](https://scikit-learn.org/stable/modules/generated/sklearn.metrics.f1_score.html), which places equal weight on the model's precision and its recall."
   ]
  },
  {
   "cell_type": "code",
   "execution_count": 23,
   "id": "c2496a8b",
   "metadata": {},
   "outputs": [],
   "source": [
    "# Number of trees in random forest\n",
    "n_estimators = [int(x) for x in np.linspace(start = 200, stop = 2000, num = 10)]\n",
    "# Number of features to consider at every split\n",
    "max_features = ['auto', 'sqrt']\n",
    "# Maximum number of levels in tree\n",
    "max_depth = [int(x) for x in np.linspace(10, 110, num = 11)]\n",
    "max_depth.append(None)\n",
    "# Minimum number of samples required to split a node\n",
    "min_samples_split = [2, 5, 10]\n",
    "# Minimum number of samples required at each leaf node\n",
    "min_samples_leaf = [1, 2, 4]\n",
    "# Method of selecting samples for training each tree\n",
    "bootstrap = [True, False]\n",
    "\n",
    "# Create the random grid\n",
    "random_grid = {'n_estimators': n_estimators,\n",
    "               'max_features': max_features,\n",
    "               'max_depth': max_depth,\n",
    "               'min_samples_split': min_samples_split,\n",
    "               'min_samples_leaf': min_samples_leaf,\n",
    "               'bootstrap': bootstrap}"
   ]
  },
  {
   "cell_type": "code",
   "execution_count": 24,
   "id": "effc43b0",
   "metadata": {},
   "outputs": [
    {
     "name": "stdout",
     "output_type": "stream",
     "text": [
      "CPU times: total: 1min 56s\n",
      "Wall time: 53min 16s\n"
     ]
    },
    {
     "data": {
      "text/html": [
       "<style>#sk-container-id-3 {color: black;background-color: white;}#sk-container-id-3 pre{padding: 0;}#sk-container-id-3 div.sk-toggleable {background-color: white;}#sk-container-id-3 label.sk-toggleable__label {cursor: pointer;display: block;width: 100%;margin-bottom: 0;padding: 0.3em;box-sizing: border-box;text-align: center;}#sk-container-id-3 label.sk-toggleable__label-arrow:before {content: \"▸\";float: left;margin-right: 0.25em;color: #696969;}#sk-container-id-3 label.sk-toggleable__label-arrow:hover:before {color: black;}#sk-container-id-3 div.sk-estimator:hover label.sk-toggleable__label-arrow:before {color: black;}#sk-container-id-3 div.sk-toggleable__content {max-height: 0;max-width: 0;overflow: hidden;text-align: left;background-color: #f0f8ff;}#sk-container-id-3 div.sk-toggleable__content pre {margin: 0.2em;color: black;border-radius: 0.25em;background-color: #f0f8ff;}#sk-container-id-3 input.sk-toggleable__control:checked~div.sk-toggleable__content {max-height: 200px;max-width: 100%;overflow: auto;}#sk-container-id-3 input.sk-toggleable__control:checked~label.sk-toggleable__label-arrow:before {content: \"▾\";}#sk-container-id-3 div.sk-estimator input.sk-toggleable__control:checked~label.sk-toggleable__label {background-color: #d4ebff;}#sk-container-id-3 div.sk-label input.sk-toggleable__control:checked~label.sk-toggleable__label {background-color: #d4ebff;}#sk-container-id-3 input.sk-hidden--visually {border: 0;clip: rect(1px 1px 1px 1px);clip: rect(1px, 1px, 1px, 1px);height: 1px;margin: -1px;overflow: hidden;padding: 0;position: absolute;width: 1px;}#sk-container-id-3 div.sk-estimator {font-family: monospace;background-color: #f0f8ff;border: 1px dotted black;border-radius: 0.25em;box-sizing: border-box;margin-bottom: 0.5em;}#sk-container-id-3 div.sk-estimator:hover {background-color: #d4ebff;}#sk-container-id-3 div.sk-parallel-item::after {content: \"\";width: 100%;border-bottom: 1px solid gray;flex-grow: 1;}#sk-container-id-3 div.sk-label:hover label.sk-toggleable__label {background-color: #d4ebff;}#sk-container-id-3 div.sk-serial::before {content: \"\";position: absolute;border-left: 1px solid gray;box-sizing: border-box;top: 0;bottom: 0;left: 50%;z-index: 0;}#sk-container-id-3 div.sk-serial {display: flex;flex-direction: column;align-items: center;background-color: white;padding-right: 0.2em;padding-left: 0.2em;position: relative;}#sk-container-id-3 div.sk-item {position: relative;z-index: 1;}#sk-container-id-3 div.sk-parallel {display: flex;align-items: stretch;justify-content: center;background-color: white;position: relative;}#sk-container-id-3 div.sk-item::before, #sk-container-id-3 div.sk-parallel-item::before {content: \"\";position: absolute;border-left: 1px solid gray;box-sizing: border-box;top: 0;bottom: 0;left: 50%;z-index: -1;}#sk-container-id-3 div.sk-parallel-item {display: flex;flex-direction: column;z-index: 1;position: relative;background-color: white;}#sk-container-id-3 div.sk-parallel-item:first-child::after {align-self: flex-end;width: 50%;}#sk-container-id-3 div.sk-parallel-item:last-child::after {align-self: flex-start;width: 50%;}#sk-container-id-3 div.sk-parallel-item:only-child::after {width: 0;}#sk-container-id-3 div.sk-dashed-wrapped {border: 1px dashed gray;margin: 0 0.4em 0.5em 0.4em;box-sizing: border-box;padding-bottom: 0.4em;background-color: white;}#sk-container-id-3 div.sk-label label {font-family: monospace;font-weight: bold;display: inline-block;line-height: 1.2em;}#sk-container-id-3 div.sk-label-container {text-align: center;}#sk-container-id-3 div.sk-container {/* jupyter's `normalize.less` sets `[hidden] { display: none; }` but bootstrap.min.css set `[hidden] { display: none !important; }` so we also need the `!important` here to be able to override the default hidden behavior on the sphinx rendered scikit-learn.org. See: https://github.com/scikit-learn/scikit-learn/issues/21755 */display: inline-block !important;position: relative;}#sk-container-id-3 div.sk-text-repr-fallback {display: none;}</style><div id=\"sk-container-id-3\" class=\"sk-top-container\"><div class=\"sk-text-repr-fallback\"><pre>RandomizedSearchCV(cv=3, estimator=RandomForestClassifier(random_state=42),\n",
       "                   n_iter=100, n_jobs=-1,\n",
       "                   param_distributions={&#x27;bootstrap&#x27;: [True, False],\n",
       "                                        &#x27;max_depth&#x27;: [10, 20, 30, 40, 50, 60,\n",
       "                                                      70, 80, 90, 100, 110,\n",
       "                                                      None],\n",
       "                                        &#x27;max_features&#x27;: [&#x27;auto&#x27;, &#x27;sqrt&#x27;],\n",
       "                                        &#x27;min_samples_leaf&#x27;: [1, 2, 4],\n",
       "                                        &#x27;min_samples_split&#x27;: [2, 5, 10],\n",
       "                                        &#x27;n_estimators&#x27;: [200, 400, 600, 800,\n",
       "                                                         1000, 1200, 1400, 1600,\n",
       "                                                         1800, 2000]},\n",
       "                   scoring=&#x27;f1&#x27;)</pre><b>In a Jupyter environment, please rerun this cell to show the HTML representation or trust the notebook. <br />On GitHub, the HTML representation is unable to render, please try loading this page with nbviewer.org.</b></div><div class=\"sk-container\" hidden><div class=\"sk-item sk-dashed-wrapped\"><div class=\"sk-label-container\"><div class=\"sk-label sk-toggleable\"><input class=\"sk-toggleable__control sk-hidden--visually\" id=\"sk-estimator-id-3\" type=\"checkbox\" ><label for=\"sk-estimator-id-3\" class=\"sk-toggleable__label sk-toggleable__label-arrow\">RandomizedSearchCV</label><div class=\"sk-toggleable__content\"><pre>RandomizedSearchCV(cv=3, estimator=RandomForestClassifier(random_state=42),\n",
       "                   n_iter=100, n_jobs=-1,\n",
       "                   param_distributions={&#x27;bootstrap&#x27;: [True, False],\n",
       "                                        &#x27;max_depth&#x27;: [10, 20, 30, 40, 50, 60,\n",
       "                                                      70, 80, 90, 100, 110,\n",
       "                                                      None],\n",
       "                                        &#x27;max_features&#x27;: [&#x27;auto&#x27;, &#x27;sqrt&#x27;],\n",
       "                                        &#x27;min_samples_leaf&#x27;: [1, 2, 4],\n",
       "                                        &#x27;min_samples_split&#x27;: [2, 5, 10],\n",
       "                                        &#x27;n_estimators&#x27;: [200, 400, 600, 800,\n",
       "                                                         1000, 1200, 1400, 1600,\n",
       "                                                         1800, 2000]},\n",
       "                   scoring=&#x27;f1&#x27;)</pre></div></div></div><div class=\"sk-parallel\"><div class=\"sk-parallel-item\"><div class=\"sk-item\"><div class=\"sk-label-container\"><div class=\"sk-label sk-toggleable\"><input class=\"sk-toggleable__control sk-hidden--visually\" id=\"sk-estimator-id-4\" type=\"checkbox\" ><label for=\"sk-estimator-id-4\" class=\"sk-toggleable__label sk-toggleable__label-arrow\">estimator: RandomForestClassifier</label><div class=\"sk-toggleable__content\"><pre>RandomForestClassifier(random_state=42)</pre></div></div></div><div class=\"sk-serial\"><div class=\"sk-item\"><div class=\"sk-estimator sk-toggleable\"><input class=\"sk-toggleable__control sk-hidden--visually\" id=\"sk-estimator-id-5\" type=\"checkbox\" ><label for=\"sk-estimator-id-5\" class=\"sk-toggleable__label sk-toggleable__label-arrow\">RandomForestClassifier</label><div class=\"sk-toggleable__content\"><pre>RandomForestClassifier(random_state=42)</pre></div></div></div></div></div></div></div></div></div></div>"
      ],
      "text/plain": [
       "RandomizedSearchCV(cv=3, estimator=RandomForestClassifier(random_state=42),\n",
       "                   n_iter=100, n_jobs=-1,\n",
       "                   param_distributions={'bootstrap': [True, False],\n",
       "                                        'max_depth': [10, 20, 30, 40, 50, 60,\n",
       "                                                      70, 80, 90, 100, 110,\n",
       "                                                      None],\n",
       "                                        'max_features': ['auto', 'sqrt'],\n",
       "                                        'min_samples_leaf': [1, 2, 4],\n",
       "                                        'min_samples_split': [2, 5, 10],\n",
       "                                        'n_estimators': [200, 400, 600, 800,\n",
       "                                                         1000, 1200, 1400, 1600,\n",
       "                                                         1800, 2000]},\n",
       "                   scoring='f1')"
      ]
     },
     "execution_count": 24,
     "metadata": {},
     "output_type": "execute_result"
    }
   ],
   "source": [
    "bin_random_search = RandomizedSearchCV(estimator=bin_forest, param_distributions=random_grid, n_iter=100, cv=3, \n",
    "                                       scoring='f1', n_jobs=-1)\n",
    "%time bin_random_search.fit(binary_features_oversampled, binary_label_oversampled)"
   ]
  },
  {
   "cell_type": "code",
   "execution_count": 25,
   "id": "0a40cc59",
   "metadata": {},
   "outputs": [
    {
     "data": {
      "text/plain": [
       "{'n_estimators': 1400,\n",
       " 'min_samples_split': 2,\n",
       " 'min_samples_leaf': 1,\n",
       " 'max_features': 'sqrt',\n",
       " 'max_depth': 30,\n",
       " 'bootstrap': False}"
      ]
     },
     "execution_count": 25,
     "metadata": {},
     "output_type": "execute_result"
    }
   ],
   "source": [
    "bin_random_search.best_params_"
   ]
  },
  {
   "cell_type": "code",
   "execution_count": 26,
   "id": "743aa370",
   "metadata": {},
   "outputs": [
    {
     "data": {
      "text/html": [
       "<style>#sk-container-id-4 {color: black;background-color: white;}#sk-container-id-4 pre{padding: 0;}#sk-container-id-4 div.sk-toggleable {background-color: white;}#sk-container-id-4 label.sk-toggleable__label {cursor: pointer;display: block;width: 100%;margin-bottom: 0;padding: 0.3em;box-sizing: border-box;text-align: center;}#sk-container-id-4 label.sk-toggleable__label-arrow:before {content: \"▸\";float: left;margin-right: 0.25em;color: #696969;}#sk-container-id-4 label.sk-toggleable__label-arrow:hover:before {color: black;}#sk-container-id-4 div.sk-estimator:hover label.sk-toggleable__label-arrow:before {color: black;}#sk-container-id-4 div.sk-toggleable__content {max-height: 0;max-width: 0;overflow: hidden;text-align: left;background-color: #f0f8ff;}#sk-container-id-4 div.sk-toggleable__content pre {margin: 0.2em;color: black;border-radius: 0.25em;background-color: #f0f8ff;}#sk-container-id-4 input.sk-toggleable__control:checked~div.sk-toggleable__content {max-height: 200px;max-width: 100%;overflow: auto;}#sk-container-id-4 input.sk-toggleable__control:checked~label.sk-toggleable__label-arrow:before {content: \"▾\";}#sk-container-id-4 div.sk-estimator input.sk-toggleable__control:checked~label.sk-toggleable__label {background-color: #d4ebff;}#sk-container-id-4 div.sk-label input.sk-toggleable__control:checked~label.sk-toggleable__label {background-color: #d4ebff;}#sk-container-id-4 input.sk-hidden--visually {border: 0;clip: rect(1px 1px 1px 1px);clip: rect(1px, 1px, 1px, 1px);height: 1px;margin: -1px;overflow: hidden;padding: 0;position: absolute;width: 1px;}#sk-container-id-4 div.sk-estimator {font-family: monospace;background-color: #f0f8ff;border: 1px dotted black;border-radius: 0.25em;box-sizing: border-box;margin-bottom: 0.5em;}#sk-container-id-4 div.sk-estimator:hover {background-color: #d4ebff;}#sk-container-id-4 div.sk-parallel-item::after {content: \"\";width: 100%;border-bottom: 1px solid gray;flex-grow: 1;}#sk-container-id-4 div.sk-label:hover label.sk-toggleable__label {background-color: #d4ebff;}#sk-container-id-4 div.sk-serial::before {content: \"\";position: absolute;border-left: 1px solid gray;box-sizing: border-box;top: 0;bottom: 0;left: 50%;z-index: 0;}#sk-container-id-4 div.sk-serial {display: flex;flex-direction: column;align-items: center;background-color: white;padding-right: 0.2em;padding-left: 0.2em;position: relative;}#sk-container-id-4 div.sk-item {position: relative;z-index: 1;}#sk-container-id-4 div.sk-parallel {display: flex;align-items: stretch;justify-content: center;background-color: white;position: relative;}#sk-container-id-4 div.sk-item::before, #sk-container-id-4 div.sk-parallel-item::before {content: \"\";position: absolute;border-left: 1px solid gray;box-sizing: border-box;top: 0;bottom: 0;left: 50%;z-index: -1;}#sk-container-id-4 div.sk-parallel-item {display: flex;flex-direction: column;z-index: 1;position: relative;background-color: white;}#sk-container-id-4 div.sk-parallel-item:first-child::after {align-self: flex-end;width: 50%;}#sk-container-id-4 div.sk-parallel-item:last-child::after {align-self: flex-start;width: 50%;}#sk-container-id-4 div.sk-parallel-item:only-child::after {width: 0;}#sk-container-id-4 div.sk-dashed-wrapped {border: 1px dashed gray;margin: 0 0.4em 0.5em 0.4em;box-sizing: border-box;padding-bottom: 0.4em;background-color: white;}#sk-container-id-4 div.sk-label label {font-family: monospace;font-weight: bold;display: inline-block;line-height: 1.2em;}#sk-container-id-4 div.sk-label-container {text-align: center;}#sk-container-id-4 div.sk-container {/* jupyter's `normalize.less` sets `[hidden] { display: none; }` but bootstrap.min.css set `[hidden] { display: none !important; }` so we also need the `!important` here to be able to override the default hidden behavior on the sphinx rendered scikit-learn.org. See: https://github.com/scikit-learn/scikit-learn/issues/21755 */display: inline-block !important;position: relative;}#sk-container-id-4 div.sk-text-repr-fallback {display: none;}</style><div id=\"sk-container-id-4\" class=\"sk-top-container\"><div class=\"sk-text-repr-fallback\"><pre>RandomForestClassifier(bootstrap=False, max_depth=30, n_estimators=1400,\n",
       "                       random_state=42)</pre><b>In a Jupyter environment, please rerun this cell to show the HTML representation or trust the notebook. <br />On GitHub, the HTML representation is unable to render, please try loading this page with nbviewer.org.</b></div><div class=\"sk-container\" hidden><div class=\"sk-item\"><div class=\"sk-estimator sk-toggleable\"><input class=\"sk-toggleable__control sk-hidden--visually\" id=\"sk-estimator-id-6\" type=\"checkbox\" checked><label for=\"sk-estimator-id-6\" class=\"sk-toggleable__label sk-toggleable__label-arrow\">RandomForestClassifier</label><div class=\"sk-toggleable__content\"><pre>RandomForestClassifier(bootstrap=False, max_depth=30, n_estimators=1400,\n",
       "                       random_state=42)</pre></div></div></div></div></div>"
      ],
      "text/plain": [
       "RandomForestClassifier(bootstrap=False, max_depth=30, n_estimators=1400,\n",
       "                       random_state=42)"
      ]
     },
     "execution_count": 26,
     "metadata": {},
     "output_type": "execute_result"
    }
   ],
   "source": [
    "bin_random_search.best_estimator_"
   ]
  },
  {
   "cell_type": "markdown",
   "id": "fb5a6638",
   "metadata": {},
   "source": [
    "## Evaluation of Binary Model <a name = \"bin_eval\"></a>\n",
    "### Random Forest  \n",
    "\n",
    "In order to test the actual performance of the optimized random forest model, it must be tested with data the model has not previously seen. In order to do this, the optimized final random forest model is fit to the `binary_features_test` data. Following this, a confusion matrix, ROC curve, and two graphs demonstrating the relationship between precision and recall and generated based on the model's predictions. "
   ]
  },
  {
   "cell_type": "code",
   "execution_count": 27,
   "id": "63370883",
   "metadata": {},
   "outputs": [
    {
     "name": "stdout",
     "output_type": "stream",
     "text": [
      "Mean Squared Error:  0.4212537773432379\n",
      "Accuracy:  0.8225452550740537\n"
     ]
    }
   ],
   "source": [
    "bin_final_rf = bin_random_search.best_estimator_\n",
    "\n",
    "binary_features_test_prepared = pipeline.fit_transform(binary_features_test)\n",
    "bin_final_predictions = bin_final_rf.predict(binary_features_test_prepared)\n",
    "\n",
    "binary_label_test = binary_label_test.astype(\"int\")\n",
    "\n",
    "accuracy = accuracy_score(binary_label_test, bin_final_predictions)\n",
    "bin_final_rf_mse = mean_squared_error(binary_label_test, bin_final_predictions)\n",
    "bin_final_rf_rmse = np.sqrt(bin_final_rf_mse)\n",
    "\n",
    "print(\"Mean Squared Error: \", bin_final_rf_rmse)\n",
    "print(\"Accuracy: \", accuracy)"
   ]
  },
  {
   "cell_type": "code",
   "execution_count": 28,
   "id": "7b2b89d8",
   "metadata": {},
   "outputs": [
    {
     "name": "stdout",
     "output_type": "stream",
     "text": [
      "[[0.81692265 0.16703236]\n",
      " [0.01042238 0.0056226 ]]\n"
     ]
    }
   ],
   "source": [
    "conf_mat = confusion_matrix(binary_label_test, bin_final_predictions, normalize='all')\n",
    "print(conf_mat)"
   ]
  },
  {
   "cell_type": "code",
   "execution_count": 29,
   "id": "8e4f1da7",
   "metadata": {},
   "outputs": [
    {
     "data": {
      "text/plain": [
       "<matplotlib.colorbar.Colorbar at 0x2b6e4377b20>"
      ]
     },
     "execution_count": 29,
     "metadata": {},
     "output_type": "execute_result"
    },
    {
     "data": {
      "image/png": "[encoded data removed]",
      "text/plain": [
       "<Figure size 432x288 with 2 Axes>"
      ]
     },
     "metadata": {
      "needs_background": "light"
     },
     "output_type": "display_data"
    }
   ],
   "source": [
    "fig = plt.figure()\n",
    "ax = fig.add_subplot(111)\n",
    "cax = ax.matshow(conf_mat)\n",
    "plt.xlabel('Predicted Value')\n",
    "plt.ylabel('Actual Value')\n",
    "fig.colorbar(cax)"
   ]
  },
  {
   "cell_type": "code",
   "execution_count": 30,
   "id": "2cd7fd7c",
   "metadata": {},
   "outputs": [
    {
     "data": {
      "text/html": [
       "<style>#sk-container-id-5 {color: black;background-color: white;}#sk-container-id-5 pre{padding: 0;}#sk-container-id-5 div.sk-toggleable {background-color: white;}#sk-container-id-5 label.sk-toggleable__label {cursor: pointer;display: block;width: 100%;margin-bottom: 0;padding: 0.3em;box-sizing: border-box;text-align: center;}#sk-container-id-5 label.sk-toggleable__label-arrow:before {content: \"▸\";float: left;margin-right: 0.25em;color: #696969;}#sk-container-id-5 label.sk-toggleable__label-arrow:hover:before {color: black;}#sk-container-id-5 div.sk-estimator:hover label.sk-toggleable__label-arrow:before {color: black;}#sk-container-id-5 div.sk-toggleable__content {max-height: 0;max-width: 0;overflow: hidden;text-align: left;background-color: #f0f8ff;}#sk-container-id-5 div.sk-toggleable__content pre {margin: 0.2em;color: black;border-radius: 0.25em;background-color: #f0f8ff;}#sk-container-id-5 input.sk-toggleable__control:checked~div.sk-toggleable__content {max-height: 200px;max-width: 100%;overflow: auto;}#sk-container-id-5 input.sk-toggleable__control:checked~label.sk-toggleable__label-arrow:before {content: \"▾\";}#sk-container-id-5 div.sk-estimator input.sk-toggleable__control:checked~label.sk-toggleable__label {background-color: #d4ebff;}#sk-container-id-5 div.sk-label input.sk-toggleable__control:checked~label.sk-toggleable__label {background-color: #d4ebff;}#sk-container-id-5 input.sk-hidden--visually {border: 0;clip: rect(1px 1px 1px 1px);clip: rect(1px, 1px, 1px, 1px);height: 1px;margin: -1px;overflow: hidden;padding: 0;position: absolute;width: 1px;}#sk-container-id-5 div.sk-estimator {font-family: monospace;background-color: #f0f8ff;border: 1px dotted black;border-radius: 0.25em;box-sizing: border-box;margin-bottom: 0.5em;}#sk-container-id-5 div.sk-estimator:hover {background-color: #d4ebff;}#sk-container-id-5 div.sk-parallel-item::after {content: \"\";width: 100%;border-bottom: 1px solid gray;flex-grow: 1;}#sk-container-id-5 div.sk-label:hover label.sk-toggleable__label {background-color: #d4ebff;}#sk-container-id-5 div.sk-serial::before {content: \"\";position: absolute;border-left: 1px solid gray;box-sizing: border-box;top: 0;bottom: 0;left: 50%;z-index: 0;}#sk-container-id-5 div.sk-serial {display: flex;flex-direction: column;align-items: center;background-color: white;padding-right: 0.2em;padding-left: 0.2em;position: relative;}#sk-container-id-5 div.sk-item {position: relative;z-index: 1;}#sk-container-id-5 div.sk-parallel {display: flex;align-items: stretch;justify-content: center;background-color: white;position: relative;}#sk-container-id-5 div.sk-item::before, #sk-container-id-5 div.sk-parallel-item::before {content: \"\";position: absolute;border-left: 1px solid gray;box-sizing: border-box;top: 0;bottom: 0;left: 50%;z-index: -1;}#sk-container-id-5 div.sk-parallel-item {display: flex;flex-direction: column;z-index: 1;position: relative;background-color: white;}#sk-container-id-5 div.sk-parallel-item:first-child::after {align-self: flex-end;width: 50%;}#sk-container-id-5 div.sk-parallel-item:last-child::after {align-self: flex-start;width: 50%;}#sk-container-id-5 div.sk-parallel-item:only-child::after {width: 0;}#sk-container-id-5 div.sk-dashed-wrapped {border: 1px dashed gray;margin: 0 0.4em 0.5em 0.4em;box-sizing: border-box;padding-bottom: 0.4em;background-color: white;}#sk-container-id-5 div.sk-label label {font-family: monospace;font-weight: bold;display: inline-block;line-height: 1.2em;}#sk-container-id-5 div.sk-label-container {text-align: center;}#sk-container-id-5 div.sk-container {/* jupyter's `normalize.less` sets `[hidden] { display: none; }` but bootstrap.min.css set `[hidden] { display: none !important; }` so we also need the `!important` here to be able to override the default hidden behavior on the sphinx rendered scikit-learn.org. See: https://github.com/scikit-learn/scikit-learn/issues/21755 */display: inline-block !important;position: relative;}#sk-container-id-5 div.sk-text-repr-fallback {display: none;}</style><div id=\"sk-container-id-5\" class=\"sk-top-container\"><div class=\"sk-text-repr-fallback\"><pre>RandomForestClassifier(bootstrap=False, max_depth=30, n_estimators=1400,\n",
       "                       random_state=42)</pre><b>In a Jupyter environment, please rerun this cell to show the HTML representation or trust the notebook. <br />On GitHub, the HTML representation is unable to render, please try loading this page with nbviewer.org.</b></div><div class=\"sk-container\" hidden><div class=\"sk-item\"><div class=\"sk-estimator sk-toggleable\"><input class=\"sk-toggleable__control sk-hidden--visually\" id=\"sk-estimator-id-7\" type=\"checkbox\" checked><label for=\"sk-estimator-id-7\" class=\"sk-toggleable__label sk-toggleable__label-arrow\">RandomForestClassifier</label><div class=\"sk-toggleable__content\"><pre>RandomForestClassifier(bootstrap=False, max_depth=30, n_estimators=1400,\n",
       "                       random_state=42)</pre></div></div></div></div></div>"
      ],
      "text/plain": [
       "RandomForestClassifier(bootstrap=False, max_depth=30, n_estimators=1400,\n",
       "                       random_state=42)"
      ]
     },
     "execution_count": 30,
     "metadata": {},
     "output_type": "execute_result"
    }
   ],
   "source": [
    "bin_final_rf.probability = True\n",
    "# New fit, to compute scores:\n",
    "bin_final_rf.fit(binary_features_oversampled, binary_label_oversampled)"
   ]
  },
  {
   "cell_type": "code",
   "execution_count": 31,
   "id": "1b095bd0",
   "metadata": {},
   "outputs": [
    {
     "data": {
      "image/png": "[encoded data removed]",
      "text/plain": [
       "<Figure size 432x288 with 1 Axes>"
      ]
     },
     "metadata": {
      "needs_background": "light"
     },
     "output_type": "display_data"
    }
   ],
   "source": [
    "final_predictions_scores = bin_final_rf.predict_proba(binary_features_test_prepared)[:,1]\n",
    "fpr, tpr, thresholds = roc_curve(binary_label_test, final_predictions_scores)\n",
    "\n",
    "plt.plot(fpr, tpr, linewidth=2)\n",
    "plt.plot([0, 1], [0, 1], 'k--') # dashed diagonal\n",
    "plt.axis([0, 1, 0, 1])\n",
    "plt.xlabel('False Positive Rate (Fall-Out)', fontsize=16)\n",
    "plt.ylabel('True Positive Rate (Recall)', fontsize=16)\n",
    "plt.grid(True)"
   ]
  },
  {
   "cell_type": "code",
   "execution_count": 32,
   "id": "dff7d369",
   "metadata": {},
   "outputs": [
    {
     "name": "stdout",
     "output_type": "stream",
     "text": [
      "0.6242324071592364\n"
     ]
    }
   ],
   "source": [
    "print(roc_auc_score(binary_label_test,final_predictions_scores))"
   ]
  },
  {
   "cell_type": "code",
   "execution_count": 33,
   "id": "7f9eb938",
   "metadata": {},
   "outputs": [
    {
     "data": {
      "image/png": "[encoded data removed]",
      "text/plain": [
       "<Figure size 432x288 with 1 Axes>"
      ]
     },
     "metadata": {
      "needs_background": "light"
     },
     "output_type": "display_data"
    }
   ],
   "source": [
    "precisions, recalls, thresholds = precision_recall_curve(binary_label_test, final_predictions_scores)\n",
    "\n",
    "plt.plot(thresholds, precisions[:-1], \"b--\", label=\"Precision\", linewidth=2)\n",
    "plt.plot(thresholds, recalls[:-1], \"g-\", label=\"Recall\", linewidth=2)\n",
    "plt.legend(loc=\"center right\", fontsize=16)\n",
    "plt.xlabel(\"Threshold\", fontsize=16) \n",
    "plt.grid(True)\n",
    "\n",
    "plt.show()"
   ]
  },
  {
   "cell_type": "code",
   "execution_count": 34,
   "id": "0ae589cc",
   "metadata": {},
   "outputs": [
    {
     "data": {
      "image/png": "[encoded data removed]",
      "text/plain": [
       "<Figure size 432x288 with 1 Axes>"
      ]
     },
     "metadata": {
      "needs_background": "light"
     },
     "output_type": "display_data"
    }
   ],
   "source": [
    "plt.plot(recalls, precisions, \"b-\", linewidth=2)\n",
    "plt.xlabel(\"Recall\", fontsize=16)\n",
    "plt.ylabel(\"Precision\", fontsize=16)\n",
    "plt.axis([0, 1, 0, 1])\n",
    "plt.grid(True)\n",
    "plt.show()"
   ]
  },
  {
   "cell_type": "markdown",
   "id": "83bcb3fd",
   "metadata": {},
   "source": [
    "### Logistic regression\n",
    "Even though the logistic regression model had the lowest accuracy, it is the most interperable and therefore the most explainable of the three binary classification models. Consequently, it was deemed worthwhile to evaluate it as well."
   ]
  },
  {
   "cell_type": "code",
   "execution_count": 35,
   "id": "8f9b54a7",
   "metadata": {},
   "outputs": [
    {
     "name": "stdout",
     "output_type": "stream",
     "text": [
      "Mean Squared Error:  0.4212537773432379\n",
      "Accuracy:  0.560477235326385\n"
     ]
    }
   ],
   "source": [
    "bin_lr_predictions = logistic_regression.predict(binary_features_test_prepared)\n",
    "\n",
    "accuracy = accuracy_score(binary_label_test, bin_lr_predictions)\n",
    "bin_final_rf_mse = mean_squared_error(binary_label_test, bin_final_predictions)\n",
    "bin_final_rf_rmse = np.sqrt(bin_final_rf_mse)\n",
    "\n",
    "print(\"Mean Squared Error: \", bin_final_rf_rmse)\n",
    "print(\"Accuracy: \", accuracy)"
   ]
  },
  {
   "cell_type": "code",
   "execution_count": 36,
   "id": "7d24d875",
   "metadata": {},
   "outputs": [
    {
     "name": "stdout",
     "output_type": "stream",
     "text": [
      "[[0.5506034  0.43335162]\n",
      " [0.00617115 0.00987383]]\n"
     ]
    }
   ],
   "source": [
    "conf_mat = confusion_matrix(binary_label_test, bin_lr_predictions, normalize='all')\n",
    "print(conf_mat)"
   ]
  },
  {
   "cell_type": "code",
   "execution_count": 37,
   "id": "08356723",
   "metadata": {
    "scrolled": true
   },
   "outputs": [
    {
     "data": {
      "text/plain": [
       "<matplotlib.colorbar.Colorbar at 0x2b6833ae3d0>"
      ]
     },
     "execution_count": 37,
     "metadata": {},
     "output_type": "execute_result"
    },
    {
     "data": {
      "image/png": "[encoded data removed]",
      "text/plain": [
       "<Figure size 432x288 with 2 Axes>"
      ]
     },
     "metadata": {
      "needs_background": "light"
     },
     "output_type": "display_data"
    }
   ],
   "source": [
    "fig = plt.figure()\n",
    "ax = fig.add_subplot(111)\n",
    "cax = ax.matshow(conf_mat)\n",
    "plt.xlabel('Predicted Value')\n",
    "plt.ylabel('Actual Value')\n",
    "fig.colorbar(cax)"
   ]
  },
  {
   "cell_type": "code",
   "execution_count": 38,
   "id": "31f7c45c",
   "metadata": {},
   "outputs": [
    {
     "data": {
      "text/html": [
       "<style>#sk-container-id-6 {color: black;background-color: white;}#sk-container-id-6 pre{padding: 0;}#sk-container-id-6 div.sk-toggleable {background-color: white;}#sk-container-id-6 label.sk-toggleable__label {cursor: pointer;display: block;width: 100%;margin-bottom: 0;padding: 0.3em;box-sizing: border-box;text-align: center;}#sk-container-id-6 label.sk-toggleable__label-arrow:before {content: \"▸\";float: left;margin-right: 0.25em;color: #696969;}#sk-container-id-6 label.sk-toggleable__label-arrow:hover:before {color: black;}#sk-container-id-6 div.sk-estimator:hover label.sk-toggleable__label-arrow:before {color: black;}#sk-container-id-6 div.sk-toggleable__content {max-height: 0;max-width: 0;overflow: hidden;text-align: left;background-color: #f0f8ff;}#sk-container-id-6 div.sk-toggleable__content pre {margin: 0.2em;color: black;border-radius: 0.25em;background-color: #f0f8ff;}#sk-container-id-6 input.sk-toggleable__control:checked~div.sk-toggleable__content {max-height: 200px;max-width: 100%;overflow: auto;}#sk-container-id-6 input.sk-toggleable__control:checked~label.sk-toggleable__label-arrow:before {content: \"▾\";}#sk-container-id-6 div.sk-estimator input.sk-toggleable__control:checked~label.sk-toggleable__label {background-color: #d4ebff;}#sk-container-id-6 div.sk-label input.sk-toggleable__control:checked~label.sk-toggleable__label {background-color: #d4ebff;}#sk-container-id-6 input.sk-hidden--visually {border: 0;clip: rect(1px 1px 1px 1px);clip: rect(1px, 1px, 1px, 1px);height: 1px;margin: -1px;overflow: hidden;padding: 0;position: absolute;width: 1px;}#sk-container-id-6 div.sk-estimator {font-family: monospace;background-color: #f0f8ff;border: 1px dotted black;border-radius: 0.25em;box-sizing: border-box;margin-bottom: 0.5em;}#sk-container-id-6 div.sk-estimator:hover {background-color: #d4ebff;}#sk-container-id-6 div.sk-parallel-item::after {content: \"\";width: 100%;border-bottom: 1px solid gray;flex-grow: 1;}#sk-container-id-6 div.sk-label:hover label.sk-toggleable__label {background-color: #d4ebff;}#sk-container-id-6 div.sk-serial::before {content: \"\";position: absolute;border-left: 1px solid gray;box-sizing: border-box;top: 0;bottom: 0;left: 50%;z-index: 0;}#sk-container-id-6 div.sk-serial {display: flex;flex-direction: column;align-items: center;background-color: white;padding-right: 0.2em;padding-left: 0.2em;position: relative;}#sk-container-id-6 div.sk-item {position: relative;z-index: 1;}#sk-container-id-6 div.sk-parallel {display: flex;align-items: stretch;justify-content: center;background-color: white;position: relative;}#sk-container-id-6 div.sk-item::before, #sk-container-id-6 div.sk-parallel-item::before {content: \"\";position: absolute;border-left: 1px solid gray;box-sizing: border-box;top: 0;bottom: 0;left: 50%;z-index: -1;}#sk-container-id-6 div.sk-parallel-item {display: flex;flex-direction: column;z-index: 1;position: relative;background-color: white;}#sk-container-id-6 div.sk-parallel-item:first-child::after {align-self: flex-end;width: 50%;}#sk-container-id-6 div.sk-parallel-item:last-child::after {align-self: flex-start;width: 50%;}#sk-container-id-6 div.sk-parallel-item:only-child::after {width: 0;}#sk-container-id-6 div.sk-dashed-wrapped {border: 1px dashed gray;margin: 0 0.4em 0.5em 0.4em;box-sizing: border-box;padding-bottom: 0.4em;background-color: white;}#sk-container-id-6 div.sk-label label {font-family: monospace;font-weight: bold;display: inline-block;line-height: 1.2em;}#sk-container-id-6 div.sk-label-container {text-align: center;}#sk-container-id-6 div.sk-container {/* jupyter's `normalize.less` sets `[hidden] { display: none; }` but bootstrap.min.css set `[hidden] { display: none !important; }` so we also need the `!important` here to be able to override the default hidden behavior on the sphinx rendered scikit-learn.org. See: https://github.com/scikit-learn/scikit-learn/issues/21755 */display: inline-block !important;position: relative;}#sk-container-id-6 div.sk-text-repr-fallback {display: none;}</style><div id=\"sk-container-id-6\" class=\"sk-top-container\"><div class=\"sk-text-repr-fallback\"><pre>LogisticRegression(max_iter=1000, random_state=42)</pre><b>In a Jupyter environment, please rerun this cell to show the HTML representation or trust the notebook. <br />On GitHub, the HTML representation is unable to render, please try loading this page with nbviewer.org.</b></div><div class=\"sk-container\" hidden><div class=\"sk-item\"><div class=\"sk-estimator sk-toggleable\"><input class=\"sk-toggleable__control sk-hidden--visually\" id=\"sk-estimator-id-8\" type=\"checkbox\" checked><label for=\"sk-estimator-id-8\" class=\"sk-toggleable__label sk-toggleable__label-arrow\">LogisticRegression</label><div class=\"sk-toggleable__content\"><pre>LogisticRegression(max_iter=1000, random_state=42)</pre></div></div></div></div></div>"
      ],
      "text/plain": [
       "LogisticRegression(max_iter=1000, random_state=42)"
      ]
     },
     "execution_count": 38,
     "metadata": {},
     "output_type": "execute_result"
    }
   ],
   "source": [
    "logistic_regression.probability = True\n",
    "# New fit, to compute scores:\n",
    "logistic_regression.fit(binary_features_oversampled, binary_label_oversampled)"
   ]
  },
  {
   "cell_type": "code",
   "execution_count": 39,
   "id": "e4d003a8",
   "metadata": {
    "scrolled": true
   },
   "outputs": [
    {
     "data": {
      "image/png": "[encoded data removed]",
      "text/plain": [
       "<Figure size 432x288 with 1 Axes>"
      ]
     },
     "metadata": {
      "needs_background": "light"
     },
     "output_type": "display_data"
    }
   ],
   "source": [
    "final_predictions_scores = logistic_regression.predict_proba(binary_features_test_prepared)[:,1]\n",
    "fpr, tpr, thresholds = roc_curve(binary_label_test, final_predictions_scores)\n",
    "\n",
    "plt.plot(fpr, tpr, linewidth=2)\n",
    "plt.plot([0, 1], [0, 1], 'k--') # dashed diagonal\n",
    "plt.axis([0, 1, 0, 1])\n",
    "plt.xlabel('False Positive Rate (Fall-Out)', fontsize=16)\n",
    "plt.ylabel('True Positive Rate (Recall)', fontsize=16)\n",
    "plt.grid(True)"
   ]
  },
  {
   "cell_type": "code",
   "execution_count": 40,
   "id": "8edc75ae",
   "metadata": {},
   "outputs": [
    {
     "name": "stdout",
     "output_type": "stream",
     "text": [
      "0.6267488608952023\n"
     ]
    }
   ],
   "source": [
    "print(roc_auc_score(binary_label_test,final_predictions_scores))"
   ]
  },
  {
   "cell_type": "code",
   "execution_count": 41,
   "id": "caa8cf40",
   "metadata": {},
   "outputs": [
    {
     "data": {
      "image/png": "[encoded data removed]",
      "text/plain": [
       "<Figure size 432x288 with 1 Axes>"
      ]
     },
     "metadata": {
      "needs_background": "light"
     },
     "output_type": "display_data"
    }
   ],
   "source": [
    "precisions, recalls, thresholds = precision_recall_curve(binary_label_test, final_predictions_scores)\n",
    "\n",
    "plt.plot(thresholds, precisions[:-1], \"b--\", label=\"Precision\", linewidth=2)\n",
    "plt.plot(thresholds, recalls[:-1], \"g-\", label=\"Recall\", linewidth=2)\n",
    "plt.legend(loc=\"center right\", fontsize=16)\n",
    "plt.xlabel(\"Threshold\", fontsize=16) \n",
    "plt.grid(True)\n",
    "\n",
    "plt.show()"
   ]
  },
  {
   "cell_type": "code",
   "execution_count": 42,
   "id": "58b1c4c9",
   "metadata": {},
   "outputs": [
    {
     "data": {
      "image/png": "[encoded data removed]",
      "text/plain": [
       "<Figure size 432x288 with 1 Axes>"
      ]
     },
     "metadata": {
      "needs_background": "light"
     },
     "output_type": "display_data"
    }
   ],
   "source": [
    "plt.plot(recalls, precisions, \"b-\", linewidth=2)\n",
    "plt.xlabel(\"Recall\", fontsize=16)\n",
    "plt.ylabel(\"Precision\", fontsize=16)\n",
    "plt.axis([0, 1, 0, 1])\n",
    "plt.grid(True)\n",
    "plt.show()"
   ]
  },
  {
   "cell_type": "markdown",
   "id": "4777e954",
   "metadata": {},
   "source": [
    "### Evaluation and Recommendations\n",
    "\n",
    "From the confusion matrices seen above, the random forest model is much more effective at predicting true negatives (or good applicants) than the logisitic regression. Additionally, the overall accuracy of the random forest is significantly higher (82% compared to 56%). However, both models perform poorly when predicting \"bad customers\". For both the random forest and the logistic regression, the rate of false positives are high, while the rate of true positives are low. Although these results could, in part, be due to the unbalanced nature of the original dataset, they are still less than optimal.  \n",
    "\n",
    "Potential reasons for this could be that the features are less correlated to the label than initially thought, or are not detailed enough to provide sufficient information to accurately predict the label. For example, an applicant might own a car, but the value of the car might be more significant in determining the probability of default.  \n",
    "\n",
    "However, the optimized random forest might still be useful. Even though less than 50% of bad applicants (positives) were correctly identified as such, this might still be financially beneficial. Having half the previous number of defaults is likely to be beneficial to any credit card provider. Further analysis would be needed to determine whether this decrease in defaults would be worth the potential decrease in clients who will be able to repay in full."
   ]
  },
  {
   "cell_type": "markdown",
   "id": "e5084d43",
   "metadata": {},
   "source": [
    "# Multiclass Problem <a name = \"multi\"></a>\n",
    "\n",
    "Following the binary classification problem, a multiclassification model must be designed that assesses how late an applicant will eventually pay their loans back, if at all. This model would be used to guide the decision on what interest rates to assign clients such that the repayments cover the defaults of other clients. In practice, the multiclassification model would be used subsequent to the binary model with the data from the good applicants.   \n",
    "\n",
    "## Statistical Manipulation  <a name = \"stats_manip\"></a>\n",
    "In order to approach this problem, the stastical analysis already performed must be built upon in order to determine the probability that a delayed repayment will eventually result in defaults or full repayments."
   ]
  },
  {
   "cell_type": "code",
   "execution_count": null,
   "id": "1a08daf7",
   "metadata": {},
   "outputs": [],
   "source": []
  }
 ],
 "metadata": {
  "kernelspec": {
   "display_name": "Python 3 (ipykernel)",
   "language": "python",
   "name": "python3"
  },
  "language_info": {
   "codemirror_mode": {
    "name": "ipython",
    "version": 3
   },
   "file_extension": ".py",
   "mimetype": "text/x-python",
   "name": "python",
   "nbconvert_exporter": "python",
   "pygments_lexer": "ipython3",
   "version": "3.9.12"
  }
 },
 "nbformat": 4,
 "nbformat_minor": 5
}
